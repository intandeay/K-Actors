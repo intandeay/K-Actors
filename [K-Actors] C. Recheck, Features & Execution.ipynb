{
 "cells": [
  {
   "cell_type": "code",
   "execution_count": 1,
   "id": "7d71ba3c",
   "metadata": {
    "_cell_guid": "b1076dfc-b9ad-4769-8c92-a6c4dae69d19",
    "_uuid": "8f2839f25d086af736a60e9eeb907d3b93b6e0e5",
    "execution": {
     "iopub.execute_input": "2021-11-05T06:29:58.729515Z",
     "iopub.status.busy": "2021-11-05T06:29:58.728898Z",
     "iopub.status.idle": "2021-11-05T06:30:13.800783Z",
     "shell.execute_reply": "2021-11-05T06:30:13.801362Z",
     "shell.execute_reply.started": "2021-11-05T06:09:33.057700Z"
    },
    "papermill": {
     "duration": 15.093183,
     "end_time": "2021-11-05T06:30:13.801680",
     "exception": false,
     "start_time": "2021-11-05T06:29:58.708497",
     "status": "completed"
    },
    "tags": []
   },
   "outputs": [
    {
     "name": "stdout",
     "output_type": "stream",
     "text": [
      "Collecting imdbpy\r\n",
      "  Downloading IMDbPY-2021.4.18-py3-none-any.whl (298 kB)\r\n",
      "\u001b[K     |████████████████████████████████| 298 kB 516 kB/s \r\n",
      "\u001b[?25hRequirement already satisfied: lxml in /opt/conda/lib/python3.7/site-packages (from imdbpy) (4.6.3)\r\n",
      "Requirement already satisfied: SQLAlchemy in /opt/conda/lib/python3.7/site-packages (from imdbpy) (1.4.25)\r\n",
      "Requirement already satisfied: importlib-metadata in /opt/conda/lib/python3.7/site-packages (from SQLAlchemy->imdbpy) (4.8.1)\r\n",
      "Requirement already satisfied: greenlet!=0.4.17 in /opt/conda/lib/python3.7/site-packages (from SQLAlchemy->imdbpy) (1.1.1)\r\n",
      "Requirement already satisfied: zipp>=0.5 in /opt/conda/lib/python3.7/site-packages (from importlib-metadata->SQLAlchemy->imdbpy) (3.5.0)\r\n",
      "Requirement already satisfied: typing-extensions>=3.6.4 in /opt/conda/lib/python3.7/site-packages (from importlib-metadata->SQLAlchemy->imdbpy) (3.10.0.2)\r\n",
      "Installing collected packages: imdbpy\r\n",
      "Successfully installed imdbpy-2021.4.18\r\n",
      "\u001b[33mWARNING: Running pip as the 'root' user can result in broken permissions and conflicting behaviour with the system package manager. It is recommended to use a virtual environment instead: https://pip.pypa.io/warnings/venv\u001b[0m\r\n"
     ]
    },
    {
     "name": "stderr",
     "output_type": "stream",
     "text": [
      "2021-11-05 06:30:13,501 INFO [imdbpy.parser.http.piculet] /opt/conda/lib/python3.7/site-packages/imdb/parser/http/piculet.py:262: using lxml\n"
     ]
    }
   ],
   "source": [
    "import pandas as pd\n",
    "import numpy as np\n",
    "from sklearn.preprocessing import MinMaxScaler\n",
    "import operator\n",
    "from scipy import spatial\n",
    "from sklearn.neighbors import NearestNeighbors\n",
    "from scipy.spatial import minkowski_distance, distance\n",
    "!pip install imdbpy\n",
    "from imdb import IMDb\n",
    "ia = IMDb()"
   ]
  },
  {
   "cell_type": "code",
   "execution_count": 2,
   "id": "ac834dcc",
   "metadata": {
    "execution": {
     "iopub.execute_input": "2021-11-05T06:30:13.846230Z",
     "iopub.status.busy": "2021-11-05T06:30:13.845372Z",
     "iopub.status.idle": "2021-11-05T06:30:14.031407Z",
     "shell.execute_reply": "2021-11-05T06:30:14.031988Z",
     "shell.execute_reply.started": "2021-11-05T06:09:45.058577Z"
    },
    "papermill": {
     "duration": 0.211146,
     "end_time": "2021-11-05T06:30:14.032171",
     "exception": false,
     "start_time": "2021-11-05T06:30:13.821025",
     "status": "completed"
    },
    "tags": []
   },
   "outputs": [],
   "source": [
    "actors = pd.read_csv(\"../input/feature-creation/actor_features.csv\")\n",
    "actorIDs = pd.read_csv(\"../input/checking-on-derived-dataset/k-actors.csv\")\n",
    "kdramas = pd.read_csv(\"../input/checking-on-derived-dataset/KDrama.csv\")\n",
    "\n",
    "actors = actors.set_index('actor_ID')"
   ]
  },
  {
   "cell_type": "code",
   "execution_count": 3,
   "id": "e830987a",
   "metadata": {
    "execution": {
     "iopub.execute_input": "2021-11-05T06:30:14.118129Z",
     "iopub.status.busy": "2021-11-05T06:30:14.112838Z",
     "iopub.status.idle": "2021-11-05T06:30:14.148029Z",
     "shell.execute_reply": "2021-11-05T06:30:14.148594Z",
     "shell.execute_reply.started": "2021-11-05T06:09:45.224064Z"
    },
    "papermill": {
     "duration": 0.097287,
     "end_time": "2021-11-05T06:30:14.148817",
     "exception": false,
     "start_time": "2021-11-05T06:30:14.051530",
     "status": "completed"
    },
    "tags": []
   },
   "outputs": [],
   "source": [
    "genres = []\n",
    "for idx,row in kdramas.iterrows():\n",
    "    \n",
    "    # collecting genres\n",
    "    gr = row['genres']\n",
    "    for g in gr.split(','):\n",
    "        if g not in genres:\n",
    "            genres.append(g)\n",
    "            \n",
    "cols_count = [ g + '_count' for g in genres] \n",
    "cols_avgrating = [g + '_avgRating' for g in genres] \n",
    "cols_all = [ g + '_count' for g in genres] + [g + '_avgRating' for g in genres]\n",
    "\n",
    "cols_lead = actors.columns[actors.columns.str.contains(\"Count\")]\n",
    "cols_posAcc = ['leadTotal', 'secTotal','thirdTotal']"
   ]
  },
  {
   "cell_type": "code",
   "execution_count": 4,
   "id": "31e73c91",
   "metadata": {
    "execution": {
     "iopub.execute_input": "2021-11-05T06:30:14.192717Z",
     "iopub.status.busy": "2021-11-05T06:30:14.191746Z",
     "iopub.status.idle": "2021-11-05T06:30:14.231238Z",
     "shell.execute_reply": "2021-11-05T06:30:14.230669Z",
     "shell.execute_reply.started": "2021-11-05T06:09:45.286349Z"
    },
    "papermill": {
     "duration": 0.065652,
     "end_time": "2021-11-05T06:30:14.231383",
     "exception": false,
     "start_time": "2021-11-05T06:30:14.165731",
     "status": "completed"
    },
    "tags": []
   },
   "outputs": [],
   "source": [
    "# Normalizing Genre count by dividing it by total drama per actor\n",
    "for c in cols_count:\n",
    "    actors[c] = actors[c]/ actors['total_drama']\n",
    "    \n",
    "# Normalizing Lead count by dividing it by total drama per actor\n",
    "for c in cols_lead:\n",
    "    actors[c] = actors[c]/ actors['total_drama']\n",
    "    \n",
    "# Normalizing Acc Lead count by dividing it by total drama per actor\n",
    "for c in cols_posAcc:\n",
    "    actors[c] = actors[c]/ actors['total_drama']\n",
    "    \n",
    "actors['avgRating'] = actors['total_rating']/actors['total_drama']\n",
    "\n",
    "scaler = MinMaxScaler()\n",
    "actors['recency'] = scaler.fit_transform(actors['recency'].values.reshape(-1,1))"
   ]
  },
  {
   "cell_type": "code",
   "execution_count": 5,
   "id": "68ad52b6",
   "metadata": {
    "execution": {
     "iopub.execute_input": "2021-11-05T06:30:14.279864Z",
     "iopub.status.busy": "2021-11-05T06:30:14.279185Z",
     "iopub.status.idle": "2021-11-05T06:30:14.283683Z",
     "shell.execute_reply": "2021-11-05T06:30:14.284259Z",
     "shell.execute_reply.started": "2021-11-05T06:11:02.835687Z"
    },
    "papermill": {
     "duration": 0.036699,
     "end_time": "2021-11-05T06:30:14.284433",
     "exception": false,
     "start_time": "2021-11-05T06:30:14.247734",
     "status": "completed"
    },
    "tags": []
   },
   "outputs": [],
   "source": [
    "def getNeighborsByCols(actorID, K, columns = cols_count):\n",
    "    distances = []\n",
    "\n",
    "    vec_actor = actors.loc[actorID, columns]\n",
    "    \n",
    "    for cand_id, vec_cand in actors[columns].iterrows():\n",
    "        if actorID != cand_id:\n",
    "            dist = distance.minkowski(vec_actor, vec_cand)\n",
    "            distances.append((cand_id, dist))\n",
    "\n",
    "    distances.sort(key=operator.itemgetter(1))\n",
    "    neighbors = []\n",
    "#     print(distances[:K])\n",
    "    for x in range(K):\n",
    "        neighbors.append(distances[x])\n",
    "    return neighbors\n",
    "\n",
    "def Similarity(actorID1, actorID2):\n",
    "    a = actors.loc[actorID1]\n",
    "    b = actors.loc[actorID2]\n",
    "    \n",
    "    genreCountDistance = distance.minkowski(a[cols_count], b[cols_count])\n",
    "    leadDistance = distance.minkowski(a[cols_posAcc], b[cols_posAcc])  \n",
    "    genreRatingDistance = distance.minkowski(a[cols_avgrating], b[cols_avgrating])\n",
    "    return genreCountDistance + leadDistance + genreRatingDistance \n",
    "\n",
    "def getNeighbors(actorID, K):\n",
    "    distances = []\n",
    "\n",
    "    for index, actor_cand in actors.iterrows():\n",
    "        if actorID != index:\n",
    "            dist = Similarity(actorID, index)\n",
    "            distances.append((index, actor_cand['actor_name'], dist))\n",
    "\n",
    "    distances.sort(key=operator.itemgetter(2))\n",
    "    neighbors = []\n",
    "\n",
    "    for x in range(K):\n",
    "        neighbors.append(distances[x])\n",
    "    return neighbors"
   ]
  },
  {
   "cell_type": "code",
   "execution_count": 6,
   "id": "7576caec",
   "metadata": {
    "execution": {
     "iopub.execute_input": "2021-11-05T06:30:14.327221Z",
     "iopub.status.busy": "2021-11-05T06:30:14.326497Z",
     "iopub.status.idle": "2021-11-05T06:30:28.840774Z",
     "shell.execute_reply": "2021-11-05T06:30:28.841466Z",
     "shell.execute_reply.started": "2021-11-05T06:16:15.451031Z"
    },
    "papermill": {
     "duration": 14.539537,
     "end_time": "2021-11-05T06:30:28.841680",
     "exception": false,
     "start_time": "2021-11-05T06:30:14.302143",
     "status": "completed"
    },
    "tags": []
   },
   "outputs": [
    {
     "name": "stdout",
     "output_type": "stream",
     "text": [
      "Actor Name: Gong Yoo\n",
      "Closest actors by Drama count per Genre\n",
      "Actor ID: 10652418 , Actor Name: Jae-Wook Lee\n",
      "Actor ID: 5374082 , Actor Name: Seong-yeon Park\n",
      "Actor ID: 2339975 , Actor Name: Park Shin-Hye\n",
      "Actor ID: 4704907 , Actor Name: Nam Da-reum\n",
      "Actor ID: 7094545 , Actor Name: Bak Yoon\n",
      "\n",
      "Closest actors by Lead/Not Accumulative\n",
      "Actor ID: 1593423 , Actor Name: Tae-woong Eom\n",
      "Actor ID: 6124994 , Actor Name: Seo Jun Park\n",
      "Actor ID: 496932 , Actor Name: Lee Byung-hun\n",
      "Actor ID: 644885 , Actor Name: Ji-Ho Oh\n",
      "Actor ID: 4798643 , Actor Name: Hee-chul Kim\n",
      "\n",
      "Closest actors by Avg Rating per Genre\n",
      "Actor ID: 1868836 , Actor Name: Seul-gi Park\n",
      "Actor ID: 10893903 , Actor Name: Bae Hae-Sun\n",
      "Actor ID: 10077115 , Actor Name: Eui-soo Jang\n",
      "Actor ID: 3241804 , Actor Name: Joon Lee\n",
      "Actor ID: 2165232 , Actor Name: Yeon-hee Lee\n",
      "\n",
      "Overall\n",
      "Actor ID: 1868836 , Actor Name: Seul-gi Park\n",
      "Actor ID: 3241804 , Actor Name: Joon Lee\n",
      "Actor ID: 2165232 , Actor Name: Yeon-hee Lee\n",
      "Actor ID: 1118612 , Actor Name: Dong-wook Kim\n",
      "Actor ID: 7094545 , Actor Name: Bak Yoon\n"
     ]
    }
   ],
   "source": [
    "# Find an actor by actor ID df\n",
    "selectActor = \"Gong Yoo\"\n",
    "K = 5\n",
    "id_ = actorIDs.loc[actorIDs['actor_name'].str.contains(selectActor), 'actor_ID'].values[0]\n",
    "\n",
    "descs = ['Drama count per Genre', 'Lead/Not Accumulative', 'Avg Rating per Genre']\n",
    "columns = [cols_count, cols_posAcc, cols_avgrating]\n",
    "\n",
    "print(\"Actor Name:\", selectActor)\n",
    "for i in range(len(descs)):\n",
    "    print(\"Closest actors by\", descs[i])\n",
    "    closest_actors = getNeighborsByCols(id_, K, columns[i])\n",
    "    for i in closest_actors:\n",
    "        cand_id = i[0]\n",
    "        cand_name = actorIDs.loc[actorIDs['actor_ID'] == i[0]]['actor_name'].values[0]\n",
    "        print(\"Actor ID:\", cand_id, \", Actor Name:\", cand_name)\n",
    "    print(\"\")\n",
    "    \n",
    "print(\"Overall\")\n",
    "overall = getNeighbors(id_, 5)\n",
    "for i in overall:\n",
    "    print(\"Actor ID:\", i[0], \", Actor Name:\", i[1])"
   ]
  },
  {
   "cell_type": "code",
   "execution_count": 7,
   "id": "516d48ee",
   "metadata": {
    "execution": {
     "iopub.execute_input": "2021-11-05T06:30:28.883428Z",
     "iopub.status.busy": "2021-11-05T06:30:28.882710Z",
     "iopub.status.idle": "2021-11-05T06:30:28.887142Z",
     "shell.execute_reply": "2021-11-05T06:30:28.886450Z",
     "shell.execute_reply.started": "2021-11-05T05:01:55.900418Z"
    },
    "papermill": {
     "duration": 0.02648,
     "end_time": "2021-11-05T06:30:28.887299",
     "exception": false,
     "start_time": "2021-11-05T06:30:28.860819",
     "status": "completed"
    },
    "tags": []
   },
   "outputs": [],
   "source": [
    "# print(\"Actor Name:\", selectActor)\n",
    "# print(\"With K-Nearest Neighbors\")\n",
    "\n",
    "# for i in range(len(descs)):\n",
    "#     print(\"\\nClosest actors by\", descs[i])\n",
    "#     actor_vec = actors.loc[id_, columns[i]].values.reshape(1, -1)\n",
    "#     recs = actors.drop(id_, axis = 0)[columns[i]]\n",
    "\n",
    "#     knn = NearestNeighbors(n_neighbors=K, p=2)\n",
    "#     knn.fit(recs)\n",
    "\n",
    "#     idxs = knn.kneighbors(actor_vec, return_distance=False)\n",
    "\n",
    "#     for i in idxs:\n",
    "#         print(actors.iloc[i]['actor_name'])"
   ]
  },
  {
   "cell_type": "code",
   "execution_count": 8,
   "id": "39041935",
   "metadata": {
    "execution": {
     "iopub.execute_input": "2021-11-05T06:30:28.927144Z",
     "iopub.status.busy": "2021-11-05T06:30:28.926223Z",
     "iopub.status.idle": "2021-11-05T06:30:28.931675Z",
     "shell.execute_reply": "2021-11-05T06:30:28.931168Z",
     "shell.execute_reply.started": "2021-11-04T05:50:47.068336Z"
    },
    "papermill": {
     "duration": 0.026361,
     "end_time": "2021-11-05T06:30:28.931788",
     "exception": false,
     "start_time": "2021-11-05T06:30:28.905427",
     "status": "completed"
    },
    "tags": []
   },
   "outputs": [],
   "source": [
    "# print(\"\\nClosest actors by Lead/Not per Genre\")\n",
    "# closest_actors = getNeighbors(id_, K, cols_lead)\n",
    "# for i in closest_actors:\n",
    "#     cand_id = i[0]\n",
    "#     cand_name = actorIDs.loc[actorIDs['actor_ID'] == i[0]]['actor_name'].values[0]\n",
    "#     print(\"Actor ID:\", cand_id, \", Actor Name:\", cand_name)\n",
    "\n",
    "# print(\"\\nClosest actors by Avg Rating per Genre\")\n",
    "# closest_actors = getNeighbors(id_, K, cols_avgrating)\n",
    "# for i in closest_actors:\n",
    "#     cand_id = i[0]\n",
    "#     cand_name = actorIDs.loc[actorIDs['actor_ID'] == i[0]]['actor_name'].values[0]\n",
    "#     print(\"Actor ID:\", cand_id, \", Actor Name:\", cand_name)\n",
    "\n",
    "# print(\"\\nClosest actors by Averaged Drama Ratings\")\n",
    "# closest_actors = getNeighbors(id_, K,['avgRating'])\n",
    "# for i in closest_actors:\n",
    "#     cand_id = i[0]\n",
    "#     cand_name = actorIDs.loc[actorIDs['actor_ID'] == i[0]]['actor_name'].values[0]\n",
    "#     print(\"Actor ID:\", cand_id, \", Actor Name:\", cand_name)"
   ]
  },
  {
   "cell_type": "code",
   "execution_count": 9,
   "id": "034f4baf",
   "metadata": {
    "execution": {
     "iopub.execute_input": "2021-11-05T06:30:28.959697Z",
     "iopub.status.busy": "2021-11-05T06:30:28.959225Z",
     "iopub.status.idle": "2021-11-05T06:30:28.961079Z",
     "shell.execute_reply": "2021-11-05T06:30:28.961524Z",
     "shell.execute_reply.started": "2021-11-04T13:03:29.269516Z"
    },
    "papermill": {
     "duration": 0.01789,
     "end_time": "2021-11-05T06:30:28.961645",
     "exception": false,
     "start_time": "2021-11-05T06:30:28.943755",
     "status": "completed"
    },
    "tags": []
   },
   "outputs": [],
   "source": [
    "# actors.loc[actors['actor_name'].str.contains(\"Kim Seon-Ho\"), cols_avgrating] \n",
    "# actors1 = actors.set_index('actor_ID')\n",
    "# actors1 = actors1.drop(['recency_avg', 'total_rating', 'total_drama', 'actor_name'], axis=1)\n",
    "# actors1.head()"
   ]
  },
  {
   "cell_type": "code",
   "execution_count": 10,
   "id": "3f9c1bf5",
   "metadata": {
    "execution": {
     "iopub.execute_input": "2021-11-05T06:30:28.990567Z",
     "iopub.status.busy": "2021-11-05T06:30:28.990079Z",
     "iopub.status.idle": "2021-11-05T06:30:28.992335Z",
     "shell.execute_reply": "2021-11-05T06:30:28.992677Z",
     "shell.execute_reply.started": "2021-11-04T05:41:49.28432Z"
    },
    "papermill": {
     "duration": 0.019107,
     "end_time": "2021-11-05T06:30:28.992850",
     "exception": false,
     "start_time": "2021-11-05T06:30:28.973743",
     "status": "completed"
    },
    "tags": []
   },
   "outputs": [],
   "source": [
    "# def recommend_actors(actor_ID, k_recommendations):\n",
    "#     raw_movies_data = []\n",
    "#     with open('movies_recommendation_data.csv', 'r') as md:\n",
    "#         # Discard the first line (headings)\n",
    "#         next(md)\n",
    "\n",
    "#         # Read the data into memory\n",
    "#         for line in md.readlines():\n",
    "#             data_row = line.strip().split(',')\n",
    "#             raw_movies_data.append(data_row)\n",
    "\n",
    "#     actor_vec = actors1.loc[actor_ID]\n",
    "#     recs = actors1.drop(actor_ID, axis = 0)\n",
    "    \n",
    "#     # Use the KNN algorithm to get the 5 movies that are most\n",
    "#     # similar to The Post.\n",
    "    \n",
    "#     >>> from sklearn.neighbors import NearestNeighbors\n",
    "# >>> knn = NearestNeighbors(n_neighbors=5)\n",
    "# >>> knn.fit(X)\n",
    "# NearestNeighbors(algorithm='auto', leaf_size=30, n_neighbors=5, p=2,\n",
    "#          radius=1.0, warn_on_equidistant=True)\n",
    "#     recommendation_indices, _ = knn(\n",
    "#         recs, actor_vec, k=k_recommendations,\n",
    "#         distance_fn=euclidean_distance, choice_fn=lambda x: None\n",
    "#     )\n",
    "\n",
    "#     movie_recommendations = []\n",
    "#     for _, index in recommendation_indices:\n",
    "#         movie_recommendations.append(raw_movies_data[index])\n",
    "\n",
    "#     return movie_recommendations\n",
    "\n",
    "# if __name__ == '__main__':\n",
    "#     the_post = [7.2, 1, 1, 0, 0, 0, 0, 1, 0] # feature vector for The Post\n",
    "#     recommended_movies = recommend_movies(movie_query=the_post, k_recommendations=5)\n",
    "\n",
    "#     # Print recommended movie titles\n",
    "#     for recommendation in recommended_movies:\n",
    "#         print(recommendation[1])"
   ]
  }
 ],
 "metadata": {
  "kernelspec": {
   "display_name": "Python 3",
   "language": "python",
   "name": "python3"
  },
  "language_info": {
   "codemirror_mode": {
    "name": "ipython",
    "version": 3
   },
   "file_extension": ".py",
   "mimetype": "text/x-python",
   "name": "python",
   "nbconvert_exporter": "python",
   "pygments_lexer": "ipython3",
   "version": "3.7.10"
  },
  "papermill": {
   "default_parameters": {},
   "duration": 42.842009,
   "end_time": "2021-11-05T06:30:30.017348",
   "environment_variables": {},
   "exception": null,
   "input_path": "__notebook__.ipynb",
   "output_path": "__notebook__.ipynb",
   "parameters": {},
   "start_time": "2021-11-05T06:29:47.175339",
   "version": "2.3.3"
  }
 },
 "nbformat": 4,
 "nbformat_minor": 5
}
