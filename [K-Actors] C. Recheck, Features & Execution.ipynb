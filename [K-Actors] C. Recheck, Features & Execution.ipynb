{
 "cells": [
  {
   "cell_type": "code",
   "execution_count": 1,
   "id": "0885f469",
   "metadata": {
    "_cell_guid": "b1076dfc-b9ad-4769-8c92-a6c4dae69d19",
    "_uuid": "8f2839f25d086af736a60e9eeb907d3b93b6e0e5",
    "execution": {
     "iopub.execute_input": "2021-11-11T07:53:21.997448Z",
     "iopub.status.busy": "2021-11-11T07:53:21.992865Z",
     "iopub.status.idle": "2021-11-11T07:53:33.824451Z",
     "shell.execute_reply": "2021-11-11T07:53:33.823743Z",
     "shell.execute_reply.started": "2021-11-10T09:53:54.316242Z"
    },
    "papermill": {
     "duration": 11.859808,
     "end_time": "2021-11-11T07:53:33.824658",
     "exception": false,
     "start_time": "2021-11-11T07:53:21.964850",
     "status": "completed"
    },
    "tags": []
   },
   "outputs": [
    {
     "name": "stdout",
     "output_type": "stream",
     "text": [
      "Collecting imdbpy\r\n",
      "  Downloading IMDbPY-2021.4.18-py3-none-any.whl (298 kB)\r\n",
      "\u001b[K     |████████████████████████████████| 298 kB 885 kB/s \r\n",
      "\u001b[?25hRequirement already satisfied: SQLAlchemy in /opt/conda/lib/python3.7/site-packages (from imdbpy) (1.4.25)\r\n",
      "Requirement already satisfied: lxml in /opt/conda/lib/python3.7/site-packages (from imdbpy) (4.6.3)\r\n",
      "Requirement already satisfied: greenlet!=0.4.17 in /opt/conda/lib/python3.7/site-packages (from SQLAlchemy->imdbpy) (1.1.1)\r\n",
      "Requirement already satisfied: importlib-metadata in /opt/conda/lib/python3.7/site-packages (from SQLAlchemy->imdbpy) (4.8.1)\r\n",
      "Requirement already satisfied: typing-extensions>=3.6.4 in /opt/conda/lib/python3.7/site-packages (from importlib-metadata->SQLAlchemy->imdbpy) (3.10.0.2)\r\n",
      "Requirement already satisfied: zipp>=0.5 in /opt/conda/lib/python3.7/site-packages (from importlib-metadata->SQLAlchemy->imdbpy) (3.5.0)\r\n",
      "Installing collected packages: imdbpy\r\n",
      "Successfully installed imdbpy-2021.4.18\r\n",
      "\u001b[33mWARNING: Running pip as the 'root' user can result in broken permissions and conflicting behaviour with the system package manager. It is recommended to use a virtual environment instead: https://pip.pypa.io/warnings/venv\u001b[0m\r\n"
     ]
    },
    {
     "name": "stderr",
     "output_type": "stream",
     "text": [
      "2021-11-11 07:53:33,598 INFO [imdbpy.parser.http.piculet] /opt/conda/lib/python3.7/site-packages/imdb/parser/http/piculet.py:262: using lxml\n"
     ]
    }
   ],
   "source": [
    "import pandas as pd\n",
    "import numpy as np\n",
    "from sklearn.preprocessing import MinMaxScaler\n",
    "import operator\n",
    "from sklearn.neighbors import NearestNeighbors\n",
    "from scipy.spatial import minkowski_distance, distance\n",
    "from sklearn.metrics import pairwise\n",
    "\n",
    "!pip install imdbpy\n",
    "from imdb import IMDb\n",
    "ia = IMDb()"
   ]
  },
  {
   "cell_type": "code",
   "execution_count": 2,
   "id": "10cb24fd",
   "metadata": {
    "execution": {
     "iopub.execute_input": "2021-11-11T07:53:33.878882Z",
     "iopub.status.busy": "2021-11-11T07:53:33.878216Z",
     "iopub.status.idle": "2021-11-11T07:53:33.930160Z",
     "shell.execute_reply": "2021-11-11T07:53:33.930729Z",
     "shell.execute_reply.started": "2021-11-10T09:54:07.344376Z"
    },
    "papermill": {
     "duration": 0.080544,
     "end_time": "2021-11-11T07:53:33.930910",
     "exception": false,
     "start_time": "2021-11-11T07:53:33.850366",
     "status": "completed"
    },
    "tags": []
   },
   "outputs": [
    {
     "data": {
      "text/plain": [
       "(1234, 11)"
      ]
     },
     "execution_count": 2,
     "metadata": {},
     "output_type": "execute_result"
    }
   ],
   "source": [
    "# kdramas = pd.read_csv(\"../input/ii-completing-dataset-with-imdbpy/kdrama_v1.csv\")\n",
    "kdramas = pd.read_csv(\"../input/imdb-korea/kdrama_v1.csv\")\n",
    "kdramas.shape\n",
    "# kdramas.head()"
   ]
  },
  {
   "cell_type": "code",
   "execution_count": 3,
   "id": "ae7e3a81",
   "metadata": {
    "execution": {
     "iopub.execute_input": "2021-11-11T07:53:33.986253Z",
     "iopub.status.busy": "2021-11-11T07:53:33.985339Z",
     "iopub.status.idle": "2021-11-11T07:53:34.004828Z",
     "shell.execute_reply": "2021-11-11T07:53:34.005321Z",
     "shell.execute_reply.started": "2021-11-10T09:54:07.394967Z"
    },
    "papermill": {
     "duration": 0.051424,
     "end_time": "2021-11-11T07:53:34.005503",
     "exception": false,
     "start_time": "2021-11-11T07:53:33.954079",
     "status": "completed"
    },
    "tags": []
   },
   "outputs": [
    {
     "name": "stdout",
     "output_type": "stream",
     "text": [
      "<class 'pandas.core.frame.DataFrame'>\n",
      "RangeIndex: 1234 entries, 0 to 1233\n",
      "Data columns (total 11 columns):\n",
      " #   Column      Non-Null Count  Dtype  \n",
      "---  ------      --------------  -----  \n",
      " 0   title       1234 non-null   object \n",
      " 1   year        1234 non-null   object \n",
      " 2   movie_id    1216 non-null   float64\n",
      " 3   title_new   1216 non-null   object \n",
      " 4   country     1162 non-null   object \n",
      " 5   cast_IDs    1184 non-null   object \n",
      " 6   cast_names  1184 non-null   object \n",
      " 7   genres      1191 non-null   object \n",
      " 8   rating      1067 non-null   float64\n",
      " 9   year_new    1199 non-null   float64\n",
      " 10  type        1199 non-null   object \n",
      "dtypes: float64(3), object(8)\n",
      "memory usage: 106.2+ KB\n"
     ]
    }
   ],
   "source": [
    "kdramas.info()"
   ]
  },
  {
   "cell_type": "code",
   "execution_count": 4,
   "id": "1c90af1b",
   "metadata": {
    "execution": {
     "iopub.execute_input": "2021-11-11T07:53:34.057362Z",
     "iopub.status.busy": "2021-11-11T07:53:34.056734Z",
     "iopub.status.idle": "2021-11-11T07:53:34.059183Z",
     "shell.execute_reply": "2021-11-11T07:53:34.059679Z",
     "shell.execute_reply.started": "2021-11-10T09:54:07.42766Z"
    },
    "papermill": {
     "duration": 0.031012,
     "end_time": "2021-11-11T07:53:34.059852",
     "exception": false,
     "start_time": "2021-11-11T07:53:34.028840",
     "status": "completed"
    },
    "tags": []
   },
   "outputs": [
    {
     "data": {
      "text/plain": [
       "(1234, 11)"
      ]
     },
     "execution_count": 4,
     "metadata": {},
     "output_type": "execute_result"
    }
   ],
   "source": [
    "kdramas.shape"
   ]
  },
  {
   "cell_type": "code",
   "execution_count": 5,
   "id": "2b6dc1d6",
   "metadata": {
    "execution": {
     "iopub.execute_input": "2021-11-11T07:53:34.111266Z",
     "iopub.status.busy": "2021-11-11T07:53:34.110646Z",
     "iopub.status.idle": "2021-11-11T07:53:34.115877Z",
     "shell.execute_reply": "2021-11-11T07:53:34.116350Z",
     "shell.execute_reply.started": "2021-11-10T09:54:07.440734Z"
    },
    "papermill": {
     "duration": 0.032455,
     "end_time": "2021-11-11T07:53:34.116526",
     "exception": false,
     "start_time": "2021-11-11T07:53:34.084071",
     "status": "completed"
    },
    "tags": []
   },
   "outputs": [],
   "source": [
    "kdramas['movie_id'] = kdramas['movie_id'].fillna(-1).astype(int)\n",
    "kdramas['year_new'] = kdramas['year_new'].fillna(-1).astype(int)"
   ]
  },
  {
   "cell_type": "markdown",
   "id": "cf8c68c7",
   "metadata": {
    "papermill": {
     "duration": 0.023503,
     "end_time": "2021-11-11T07:53:34.163901",
     "exception": false,
     "start_time": "2021-11-11T07:53:34.140398",
     "status": "completed"
    },
    "tags": []
   },
   "source": [
    "## I. Recheck"
   ]
  },
  {
   "cell_type": "code",
   "execution_count": 6,
   "id": "2ead9040",
   "metadata": {
    "execution": {
     "iopub.execute_input": "2021-11-11T07:53:34.217208Z",
     "iopub.status.busy": "2021-11-11T07:53:34.216520Z",
     "iopub.status.idle": "2021-11-11T07:53:34.222569Z",
     "shell.execute_reply": "2021-11-11T07:53:34.223080Z",
     "shell.execute_reply.started": "2021-11-10T09:54:07.455275Z"
    },
    "papermill": {
     "duration": 0.035801,
     "end_time": "2021-11-11T07:53:34.223248",
     "exception": false,
     "start_time": "2021-11-11T07:53:34.187447",
     "status": "completed"
    },
    "tags": []
   },
   "outputs": [],
   "source": [
    "# Remove entries with non-korean origin\n",
    "kdramas  = kdramas[kdramas['country'] == 'kr']\n",
    "\n",
    "# Remove entries without casts\n",
    "kdramas = kdramas[kdramas['cast_names'].notnull()]\n",
    "\n",
    "# Limit only tv series\n",
    "kdramas = kdramas[kdramas['type'] == 'tv series']"
   ]
  },
  {
   "cell_type": "code",
   "execution_count": 7,
   "id": "472b437d",
   "metadata": {
    "execution": {
     "iopub.execute_input": "2021-11-11T07:53:34.272257Z",
     "iopub.status.busy": "2021-11-11T07:53:34.271584Z",
     "iopub.status.idle": "2021-11-11T07:53:34.283540Z",
     "shell.execute_reply": "2021-11-11T07:53:34.284049Z",
     "shell.execute_reply.started": "2021-11-10T09:54:07.473694Z"
    },
    "papermill": {
     "duration": 0.037958,
     "end_time": "2021-11-11T07:53:34.284209",
     "exception": false,
     "start_time": "2021-11-11T07:53:34.246251",
     "status": "completed"
    },
    "tags": []
   },
   "outputs": [
    {
     "name": "stdout",
     "output_type": "stream",
     "text": [
      "<class 'pandas.core.frame.DataFrame'>\n",
      "Int64Index: 1010 entries, 0 to 1233\n",
      "Data columns (total 11 columns):\n",
      " #   Column      Non-Null Count  Dtype  \n",
      "---  ------      --------------  -----  \n",
      " 0   title       1010 non-null   object \n",
      " 1   year        1010 non-null   object \n",
      " 2   movie_id    1010 non-null   int64  \n",
      " 3   title_new   1010 non-null   object \n",
      " 4   country     1010 non-null   object \n",
      " 5   cast_IDs    1010 non-null   object \n",
      " 6   cast_names  1010 non-null   object \n",
      " 7   genres      1006 non-null   object \n",
      " 8   rating      935 non-null    float64\n",
      " 9   year_new    1010 non-null   int64  \n",
      " 10  type        1010 non-null   object \n",
      "dtypes: float64(1), int64(2), object(8)\n",
      "memory usage: 94.7+ KB\n"
     ]
    }
   ],
   "source": [
    "kdramas.info()"
   ]
  },
  {
   "cell_type": "code",
   "execution_count": 8,
   "id": "b9562a13",
   "metadata": {
    "execution": {
     "iopub.execute_input": "2021-11-11T07:53:34.376936Z",
     "iopub.status.busy": "2021-11-11T07:53:34.351034Z",
     "iopub.status.idle": "2021-11-11T07:53:34.427812Z",
     "shell.execute_reply": "2021-11-11T07:53:34.427186Z",
     "shell.execute_reply.started": "2021-11-10T09:54:07.495233Z"
    },
    "papermill": {
     "duration": 0.120058,
     "end_time": "2021-11-11T07:53:34.427961",
     "exception": false,
     "start_time": "2021-11-11T07:53:34.307903",
     "status": "completed"
    },
    "tags": []
   },
   "outputs": [],
   "source": [
    "genres = []\n",
    "actorFeatures = {}\n",
    "kdramas['genres'] = kdramas['genres'].fillna('unk')\n",
    "# Removed unfound /unrelated genres\n",
    "kdramas = kdramas[(~kdramas['genres'].str.contains(\"Reality-TV\")) & (~kdramas['genres'].str.contains(\"unk\"))]\n",
    "\n",
    "for idx,row in kdramas.iterrows():\n",
    "    \n",
    "    # collecting genres\n",
    "    gr = row['genres']\n",
    "    for g in gr.split(','):\n",
    "        if g not in genres:\n",
    "            genres.append(g)\n",
    "    \n",
    "    # making new dataset: actor ID & Names\n",
    "    actor_ids = row['cast_IDs'].split(',')\n",
    "    actor_names = row['cast_names'].split(',')\n",
    "    \n",
    "    for i in range(len(actor_ids)):\n",
    "        if actor_ids[i] not in actorFeatures:\n",
    "            actorFeatures[actor_ids[i]] = actor_names[i]\n",
    "            \n",
    "actorFeatures = pd.DataFrame.from_dict(actorFeatures, orient='index').reset_index()\n",
    "actorFeatures.columns = ['actor_ID', 'actor_name']\n",
    "actorFeatures['actor_ID'] = actorFeatures['actor_ID'].astype(int)"
   ]
  },
  {
   "cell_type": "code",
   "execution_count": 9,
   "id": "38b77d6e",
   "metadata": {
    "execution": {
     "iopub.execute_input": "2021-11-11T07:53:34.505463Z",
     "iopub.status.busy": "2021-11-11T07:53:34.500265Z",
     "iopub.status.idle": "2021-11-11T07:53:34.624713Z",
     "shell.execute_reply": "2021-11-11T07:53:34.624060Z",
     "shell.execute_reply.started": "2021-11-10T09:54:07.592853Z"
    },
    "papermill": {
     "duration": 0.173004,
     "end_time": "2021-11-11T07:53:34.624860",
     "exception": false,
     "start_time": "2021-11-11T07:53:34.451856",
     "status": "completed"
    },
    "tags": []
   },
   "outputs": [],
   "source": [
    "# Make a dictionary to store averaged rating per genre\n",
    "genres_dict = {}\n",
    "for genre in genres:\n",
    "    genres_dict[genre] = []\n",
    "    \n",
    "rating_filled = kdramas[kdramas.rating.notnull()]\n",
    "\n",
    "for i, dr in rating_filled.iterrows():\n",
    "    gr = dr['genres']\n",
    "    for g in gr.split(','):\n",
    "        genres_dict[g].append(dr['rating'])\n",
    "        \n",
    "for k in genres_dict.keys():\n",
    "    genres_dict[k] = np.average(genres_dict[k])\n",
    "    \n",
    "# Fill unknown rating per genre\n",
    "for i, d in kdramas.iterrows():\n",
    "    if np.isnan(d['rating']):\n",
    "        genres1 = d['genres'].split(',')\n",
    "        genres_rating = []\n",
    "        for g in genres1:\n",
    "            genres_rating.append(genres_dict[g])\n",
    "        kdramas.loc[i, 'rating'] = np.average(genres_rating)"
   ]
  },
  {
   "cell_type": "code",
   "execution_count": 10,
   "id": "5aa203f4",
   "metadata": {
    "execution": {
     "iopub.execute_input": "2021-11-11T07:53:34.680128Z",
     "iopub.status.busy": "2021-11-11T07:53:34.679414Z",
     "iopub.status.idle": "2021-11-11T07:53:34.682654Z",
     "shell.execute_reply": "2021-11-11T07:53:34.682020Z",
     "shell.execute_reply.started": "2021-11-10T09:54:07.746787Z"
    },
    "papermill": {
     "duration": 0.033937,
     "end_time": "2021-11-11T07:53:34.682824",
     "exception": false,
     "start_time": "2021-11-11T07:53:34.648887",
     "status": "completed"
    },
    "tags": []
   },
   "outputs": [],
   "source": [
    "cols = ['movie_id', 'title_new', 'cast_IDs', 'cast_names', 'genres', 'rating', 'year_new']\n",
    "kdramas = kdramas[cols]\n",
    "kdramas.columns=['movie_id', 'title', 'cast_IDs', 'cast_names', 'genres', 'rating','year']\n",
    "# getting rid of duplicates\n",
    "# kdramas = kdramas.drop_duplicates(subset = 'movie_id')"
   ]
  },
  {
   "cell_type": "code",
   "execution_count": 11,
   "id": "3a9f46c5",
   "metadata": {
    "execution": {
     "iopub.execute_input": "2021-11-11T07:53:34.737366Z",
     "iopub.status.busy": "2021-11-11T07:53:34.736736Z",
     "iopub.status.idle": "2021-11-11T07:53:34.750772Z",
     "shell.execute_reply": "2021-11-11T07:53:34.750116Z",
     "shell.execute_reply.started": "2021-11-10T09:54:07.75708Z"
    },
    "papermill": {
     "duration": 0.043307,
     "end_time": "2021-11-11T07:53:34.750912",
     "exception": false,
     "start_time": "2021-11-11T07:53:34.707605",
     "status": "completed"
    },
    "tags": []
   },
   "outputs": [
    {
     "data": {
      "text/html": [
       "<div>\n",
       "<style scoped>\n",
       "    .dataframe tbody tr th:only-of-type {\n",
       "        vertical-align: middle;\n",
       "    }\n",
       "\n",
       "    .dataframe tbody tr th {\n",
       "        vertical-align: top;\n",
       "    }\n",
       "\n",
       "    .dataframe thead th {\n",
       "        text-align: right;\n",
       "    }\n",
       "</style>\n",
       "<table border=\"1\" class=\"dataframe\">\n",
       "  <thead>\n",
       "    <tr style=\"text-align: right;\">\n",
       "      <th></th>\n",
       "      <th>movie_id</th>\n",
       "      <th>title</th>\n",
       "      <th>cast_IDs</th>\n",
       "      <th>cast_names</th>\n",
       "      <th>genres</th>\n",
       "      <th>rating</th>\n",
       "      <th>year</th>\n",
       "    </tr>\n",
       "  </thead>\n",
       "  <tbody>\n",
       "    <tr>\n",
       "      <th>0</th>\n",
       "      <td>8199972</td>\n",
       "      <td>100 Days My Prince</td>\n",
       "      <td>6765553,2305471,1443295,3498542,9170918,789033...</td>\n",
       "      <td>Kyung-soo Do,Nam Ji-Hyun,Jo Sung-ha,Jo Han-chu...</td>\n",
       "      <td>Action,Comedy,History,Romance</td>\n",
       "      <td>7.7</td>\n",
       "      <td>2018</td>\n",
       "    </tr>\n",
       "    <tr>\n",
       "      <th>1</th>\n",
       "      <td>5476252</td>\n",
       "      <td>12 Years Promise</td>\n",
       "      <td>10213650,1452474,1224530,0046276,6857341,37533...</td>\n",
       "      <td>Im Ji-Hyun,So-yeon Lee,Min Namkoong,Chong-ok B...</td>\n",
       "      <td>Comedy,Drama,Romance</td>\n",
       "      <td>7.4</td>\n",
       "      <td>2014</td>\n",
       "    </tr>\n",
       "    <tr>\n",
       "      <th>2</th>\n",
       "      <td>12846096</td>\n",
       "      <td>18 Again</td>\n",
       "      <td>6327190,2341244,9946376,7591921,11794543,69165...</td>\n",
       "      <td>Ha-neul Kim,Yoon Sang-Hyun,Lee Do-Hyun,No Jeon...</td>\n",
       "      <td>Comedy,Fantasy,Romance</td>\n",
       "      <td>8.2</td>\n",
       "      <td>2020</td>\n",
       "    </tr>\n",
       "    <tr>\n",
       "      <th>3</th>\n",
       "      <td>12015466</td>\n",
       "      <td>365: Repeat the Year</td>\n",
       "      <td>3789806,2305471,1790874,11794543,12016813,1052...</td>\n",
       "      <td>Lee Joon-hyuk,Nam Ji-Hyun,Kim Ji-Soo,Ryeoun,Le...</td>\n",
       "      <td>Crime,Drama,Fantasy,Mystery,Thriller</td>\n",
       "      <td>8.1</td>\n",
       "      <td>2020</td>\n",
       "    </tr>\n",
       "    <tr>\n",
       "      <th>4</th>\n",
       "      <td>4449190</td>\n",
       "      <td>The Legendary Witch</td>\n",
       "      <td>1623740,5754288,1085809,5204923,2291768,218888...</td>\n",
       "      <td>Ji-hye Han,Yeon-Soo Ha,Du-shim Ko,Hyun-Kyung O...</td>\n",
       "      <td>Drama,Romance</td>\n",
       "      <td>7.6</td>\n",
       "      <td>2014</td>\n",
       "    </tr>\n",
       "  </tbody>\n",
       "</table>\n",
       "</div>"
      ],
      "text/plain": [
       "   movie_id                 title  \\\n",
       "0   8199972    100 Days My Prince   \n",
       "1   5476252      12 Years Promise   \n",
       "2  12846096              18 Again   \n",
       "3  12015466  365: Repeat the Year   \n",
       "4   4449190   The Legendary Witch   \n",
       "\n",
       "                                            cast_IDs  \\\n",
       "0  6765553,2305471,1443295,3498542,9170918,789033...   \n",
       "1  10213650,1452474,1224530,0046276,6857341,37533...   \n",
       "2  6327190,2341244,9946376,7591921,11794543,69165...   \n",
       "3  3789806,2305471,1790874,11794543,12016813,1052...   \n",
       "4  1623740,5754288,1085809,5204923,2291768,218888...   \n",
       "\n",
       "                                          cast_names  \\\n",
       "0  Kyung-soo Do,Nam Ji-Hyun,Jo Sung-ha,Jo Han-chu...   \n",
       "1  Im Ji-Hyun,So-yeon Lee,Min Namkoong,Chong-ok B...   \n",
       "2  Ha-neul Kim,Yoon Sang-Hyun,Lee Do-Hyun,No Jeon...   \n",
       "3  Lee Joon-hyuk,Nam Ji-Hyun,Kim Ji-Soo,Ryeoun,Le...   \n",
       "4  Ji-hye Han,Yeon-Soo Ha,Du-shim Ko,Hyun-Kyung O...   \n",
       "\n",
       "                                 genres  rating  year  \n",
       "0         Action,Comedy,History,Romance     7.7  2018  \n",
       "1                  Comedy,Drama,Romance     7.4  2014  \n",
       "2                Comedy,Fantasy,Romance     8.2  2020  \n",
       "3  Crime,Drama,Fantasy,Mystery,Thriller     8.1  2020  \n",
       "4                         Drama,Romance     7.6  2014  "
      ]
     },
     "execution_count": 11,
     "metadata": {},
     "output_type": "execute_result"
    }
   ],
   "source": [
    "kdramas.head()"
   ]
  },
  {
   "cell_type": "code",
   "execution_count": 12,
   "id": "4488e4f3",
   "metadata": {
    "execution": {
     "iopub.execute_input": "2021-11-11T07:53:34.805695Z",
     "iopub.status.busy": "2021-11-11T07:53:34.804976Z",
     "iopub.status.idle": "2021-11-11T07:53:34.807394Z",
     "shell.execute_reply": "2021-11-11T07:53:34.807876Z",
     "shell.execute_reply.started": "2021-11-10T09:57:19.362444Z"
    },
    "papermill": {
     "duration": 0.032354,
     "end_time": "2021-11-11T07:53:34.808037",
     "exception": false,
     "start_time": "2021-11-11T07:53:34.775683",
     "status": "completed"
    },
    "tags": []
   },
   "outputs": [
    {
     "data": {
      "text/plain": [
       "(1005, 7)"
      ]
     },
     "execution_count": 12,
     "metadata": {},
     "output_type": "execute_result"
    }
   ],
   "source": [
    "kdramas.shape"
   ]
  },
  {
   "cell_type": "markdown",
   "id": "4e82c897",
   "metadata": {
    "papermill": {
     "duration": 0.024285,
     "end_time": "2021-11-11T07:53:34.856805",
     "exception": false,
     "start_time": "2021-11-11T07:53:34.832520",
     "status": "completed"
    },
    "tags": []
   },
   "source": [
    "## II. Create New Features"
   ]
  },
  {
   "cell_type": "code",
   "execution_count": 13,
   "id": "57ad5aa7",
   "metadata": {
    "execution": {
     "iopub.execute_input": "2021-11-11T07:53:34.909324Z",
     "iopub.status.busy": "2021-11-11T07:53:34.908732Z",
     "iopub.status.idle": "2021-11-11T07:53:34.959561Z",
     "shell.execute_reply": "2021-11-11T07:53:34.960617Z",
     "shell.execute_reply.started": "2021-11-10T09:57:19.373824Z"
    },
    "papermill": {
     "duration": 0.079567,
     "end_time": "2021-11-11T07:53:34.960977",
     "exception": false,
     "start_time": "2021-11-11T07:53:34.881410",
     "status": "completed"
    },
    "tags": []
   },
   "outputs": [
    {
     "name": "stderr",
     "output_type": "stream",
     "text": [
      "/opt/conda/lib/python3.7/site-packages/ipykernel_launcher.py:9: PerformanceWarning: DataFrame is highly fragmented.  This is usually the result of calling `frame.insert` many times, which has poor performance.  Consider joining all columns at once using pd.concat(axis=1) instead.  To get a de-fragmented frame, use `newframe = frame.copy()`\n",
      "  if __name__ == '__main__':\n",
      "/opt/conda/lib/python3.7/site-packages/ipykernel_launcher.py:10: PerformanceWarning: DataFrame is highly fragmented.  This is usually the result of calling `frame.insert` many times, which has poor performance.  Consider joining all columns at once using pd.concat(axis=1) instead.  To get a de-fragmented frame, use `newframe = frame.copy()`\n",
      "  # Remove the CWD from sys.path while we load stuff.\n",
      "/opt/conda/lib/python3.7/site-packages/ipykernel_launcher.py:11: PerformanceWarning: DataFrame is highly fragmented.  This is usually the result of calling `frame.insert` many times, which has poor performance.  Consider joining all columns at once using pd.concat(axis=1) instead.  To get a de-fragmented frame, use `newframe = frame.copy()`\n",
      "  # This is added back by InteractiveShellApp.init_path()\n",
      "/opt/conda/lib/python3.7/site-packages/ipykernel_launcher.py:6: PerformanceWarning: DataFrame is highly fragmented.  This is usually the result of calling `frame.insert` many times, which has poor performance.  Consider joining all columns at once using pd.concat(axis=1) instead.  To get a de-fragmented frame, use `newframe = frame.copy()`\n",
      "  \n",
      "/opt/conda/lib/python3.7/site-packages/ipykernel_launcher.py:7: PerformanceWarning: DataFrame is highly fragmented.  This is usually the result of calling `frame.insert` many times, which has poor performance.  Consider joining all columns at once using pd.concat(axis=1) instead.  To get a de-fragmented frame, use `newframe = frame.copy()`\n",
      "  import sys\n",
      "/opt/conda/lib/python3.7/site-packages/ipykernel_launcher.py:8: PerformanceWarning: DataFrame is highly fragmented.  This is usually the result of calling `frame.insert` many times, which has poor performance.  Consider joining all columns at once using pd.concat(axis=1) instead.  To get a de-fragmented frame, use `newframe = frame.copy()`\n",
      "  \n",
      "/opt/conda/lib/python3.7/site-packages/ipykernel_launcher.py:13: PerformanceWarning: DataFrame is highly fragmented.  This is usually the result of calling `frame.insert` many times, which has poor performance.  Consider joining all columns at once using pd.concat(axis=1) instead.  To get a de-fragmented frame, use `newframe = frame.copy()`\n",
      "  del sys.path[0]\n",
      "/opt/conda/lib/python3.7/site-packages/ipykernel_launcher.py:14: PerformanceWarning: DataFrame is highly fragmented.  This is usually the result of calling `frame.insert` many times, which has poor performance.  Consider joining all columns at once using pd.concat(axis=1) instead.  To get a de-fragmented frame, use `newframe = frame.copy()`\n",
      "  \n",
      "/opt/conda/lib/python3.7/site-packages/ipykernel_launcher.py:15: PerformanceWarning: DataFrame is highly fragmented.  This is usually the result of calling `frame.insert` many times, which has poor performance.  Consider joining all columns at once using pd.concat(axis=1) instead.  To get a de-fragmented frame, use `newframe = frame.copy()`\n",
      "  from ipykernel import kernelapp as app\n",
      "/opt/conda/lib/python3.7/site-packages/ipykernel_launcher.py:16: PerformanceWarning: DataFrame is highly fragmented.  This is usually the result of calling `frame.insert` many times, which has poor performance.  Consider joining all columns at once using pd.concat(axis=1) instead.  To get a de-fragmented frame, use `newframe = frame.copy()`\n",
      "  app.launch_new_instance()\n",
      "/opt/conda/lib/python3.7/site-packages/ipykernel_launcher.py:17: PerformanceWarning: DataFrame is highly fragmented.  This is usually the result of calling `frame.insert` many times, which has poor performance.  Consider joining all columns at once using pd.concat(axis=1) instead.  To get a de-fragmented frame, use `newframe = frame.copy()`\n",
      "/opt/conda/lib/python3.7/site-packages/ipykernel_launcher.py:18: PerformanceWarning: DataFrame is highly fragmented.  This is usually the result of calling `frame.insert` many times, which has poor performance.  Consider joining all columns at once using pd.concat(axis=1) instead.  To get a de-fragmented frame, use `newframe = frame.copy()`\n",
      "/opt/conda/lib/python3.7/site-packages/ipykernel_launcher.py:19: PerformanceWarning: DataFrame is highly fragmented.  This is usually the result of calling `frame.insert` many times, which has poor performance.  Consider joining all columns at once using pd.concat(axis=1) instead.  To get a de-fragmented frame, use `newframe = frame.copy()`\n",
      "/opt/conda/lib/python3.7/site-packages/ipykernel_launcher.py:20: PerformanceWarning: DataFrame is highly fragmented.  This is usually the result of calling `frame.insert` many times, which has poor performance.  Consider joining all columns at once using pd.concat(axis=1) instead.  To get a de-fragmented frame, use `newframe = frame.copy()`\n",
      "/opt/conda/lib/python3.7/site-packages/ipykernel_launcher.py:21: PerformanceWarning: DataFrame is highly fragmented.  This is usually the result of calling `frame.insert` many times, which has poor performance.  Consider joining all columns at once using pd.concat(axis=1) instead.  To get a de-fragmented frame, use `newframe = frame.copy()`\n"
     ]
    }
   ],
   "source": [
    "actorFeatures = actorFeatures.set_index('actor_ID')\n",
    "\n",
    "## Assigning new Features per Genres\n",
    "for g in genres:\n",
    "    \n",
    "    actorFeatures[g + \"_count\"] = 0\n",
    "    actorFeatures[g + \"_totalRating\"] = 0\n",
    "    actorFeatures[g + \"_avgRating\"] = 0\n",
    "    actorFeatures[g +'_leadCount'] = 0\n",
    "    actorFeatures[g +'_secCount'] = 0\n",
    "    actorFeatures[g +'_thirdCount'] = 0\n",
    "    \n",
    "actorFeatures['total_drama'] = 0\n",
    "actorFeatures['total_rating'] = 0\n",
    "actorFeatures['recency'] = 0\n",
    "actorFeatures['leadTotal'] = 0\n",
    "actorFeatures['secTotal'] = 0\n",
    "actorFeatures['thirdTotal'] = 0\n",
    "actorFeatures['leadWt'] = 0\n",
    "actorFeatures['secWt'] = 0\n",
    "actorFeatures['thirdWt'] = 0"
   ]
  },
  {
   "cell_type": "code",
   "execution_count": 14,
   "id": "7ab40b59",
   "metadata": {
    "execution": {
     "iopub.execute_input": "2021-11-11T07:53:35.020932Z",
     "iopub.status.busy": "2021-11-11T07:53:35.020359Z",
     "iopub.status.idle": "2021-11-11T07:54:34.059905Z",
     "shell.execute_reply": "2021-11-11T07:54:34.060463Z",
     "shell.execute_reply.started": "2021-11-10T09:57:19.443727Z"
    },
    "papermill": {
     "duration": 59.072821,
     "end_time": "2021-11-11T07:54:34.060669",
     "exception": false,
     "start_time": "2021-11-11T07:53:34.987848",
     "status": "completed"
    },
    "tags": []
   },
   "outputs": [],
   "source": [
    "cr_year = 2021\n",
    "# Iterating through each dramas\n",
    "for i, d in kdramas.iterrows():\n",
    "\n",
    "    cast_IDs = d['cast_IDs'].split(',')\n",
    "    grs = d['genres'].split(',')\n",
    "    rating = d['rating']\n",
    "    \n",
    "    diff_yr = cr_year - d['year'] + 1\n",
    "#     TmWt = min(0.8 ** diff_yr, 0.8)\n",
    "\n",
    "    #Iterating through each cast member\n",
    "    for i in range(len(cast_IDs)):\n",
    "        id = int(cast_IDs[i])\n",
    "        # assigning total drama\n",
    "        actorFeatures.loc[id, 'total_drama'] += 1\n",
    "        # assigning sum of ratings\n",
    "        actorFeatures.loc[id, 'total_rating'] += rating\n",
    "        actorFeatures.loc[id, 'recency'] += diff_yr\n",
    "        \n",
    "        # Defining weights for leads\n",
    "        if i >= 0 and i <= 2:\n",
    "            actorFeatures.loc[id, 'leadTotal'] += 1\n",
    "            actorFeatures.loc[id, 'leadWt'] += 3\n",
    "        elif i>=3 and i <= 9:\n",
    "            actorFeatures.loc[id, 'secTotal'] += 1\n",
    "            actorFeatures.loc[id, 'secWt'] += 2\n",
    "        else:\n",
    "            actorFeatures.loc[id, 'thirdTotal'] += 1\n",
    "            actorFeatures.loc[id, 'thirdWt'] += 1\n",
    "        \n",
    "        for g in grs:\n",
    "            # assigning genre count\n",
    "            actorFeatures.loc[id, g + '_count'] += 1\n",
    "            # assigning genre rating sum\n",
    "            actorFeatures.loc[id, g + '_totalRating'] += rating\n",
    "            if i >= 0 and i <= 2:\n",
    "                actorFeatures.loc[id, g + '_leadCount'] += 3\n",
    "            elif i>=3 and i <= 9:\n",
    "                actorFeatures.loc[id, g + '_secCount'] += 2\n",
    "            else:\n",
    "                actorFeatures.loc[id, g + '_thirdCount'] += 1"
   ]
  },
  {
   "cell_type": "code",
   "execution_count": 15,
   "id": "0efa6e22",
   "metadata": {
    "execution": {
     "iopub.execute_input": "2021-11-11T07:54:34.115388Z",
     "iopub.status.busy": "2021-11-11T07:54:34.114774Z",
     "iopub.status.idle": "2021-11-11T07:54:34.142282Z",
     "shell.execute_reply": "2021-11-11T07:54:34.142828Z",
     "shell.execute_reply.started": "2021-11-10T09:58:19.563723Z"
    },
    "papermill": {
     "duration": 0.056217,
     "end_time": "2021-11-11T07:54:34.143000",
     "exception": false,
     "start_time": "2021-11-11T07:54:34.086783",
     "status": "completed"
    },
    "tags": []
   },
   "outputs": [
    {
     "name": "stderr",
     "output_type": "stream",
     "text": [
      "/opt/conda/lib/python3.7/site-packages/ipykernel_launcher.py:1: PerformanceWarning: DataFrame is highly fragmented.  This is usually the result of calling `frame.insert` many times, which has poor performance.  Consider joining all columns at once using pd.concat(axis=1) instead.  To get a de-fragmented frame, use `newframe = frame.copy()`\n",
      "  \"\"\"Entry point for launching an IPython kernel.\n"
     ]
    }
   ],
   "source": [
    "actorFeatures['recency_avg']= actorFeatures['recency']/actorFeatures['total_drama']\n",
    "# Get average rating per genre\n",
    "for g in genres:\n",
    "    actorFeatures[g + \"_avgRating\"] = actorFeatures[g + \"_totalRating\"]/actorFeatures[g + \"_count\"]\n",
    "    \n",
    "# Fill NaNs due to 0/0\n",
    "actorFeatures = actorFeatures.fillna(0)"
   ]
  },
  {
   "cell_type": "code",
   "execution_count": 16,
   "id": "5c48ecae",
   "metadata": {
    "execution": {
     "iopub.execute_input": "2021-11-11T07:54:34.197912Z",
     "iopub.status.busy": "2021-11-11T07:54:34.196890Z",
     "iopub.status.idle": "2021-11-11T07:54:34.203279Z",
     "shell.execute_reply": "2021-11-11T07:54:34.203900Z",
     "shell.execute_reply.started": "2021-11-10T09:58:19.603997Z"
    },
    "papermill": {
     "duration": 0.035272,
     "end_time": "2021-11-11T07:54:34.204059",
     "exception": false,
     "start_time": "2021-11-11T07:54:34.168787",
     "status": "completed"
    },
    "tags": []
   },
   "outputs": [],
   "source": [
    "# Select Columns\n",
    "cols_count = [ g + '_count' for g in genres] \n",
    "cols_avgRating = [g + '_avgRating' for g in genres] \n",
    "cols_all = [ g + '_count' for g in genres] + [g + '_avgRating' for g in genres]\n",
    "\n",
    "cols_lead = actorFeatures.columns[actorFeatures.columns.str.contains(\"Count\")]\n",
    "cols_posAcc = ['leadTotal', 'secTotal','thirdTotal']\n",
    "cols_posWt = ['leadWt', 'secWt','thirdWt']"
   ]
  },
  {
   "cell_type": "code",
   "execution_count": 17,
   "id": "16f095c0",
   "metadata": {
    "execution": {
     "iopub.execute_input": "2021-11-11T07:54:34.265431Z",
     "iopub.status.busy": "2021-11-11T07:54:34.264263Z",
     "iopub.status.idle": "2021-11-11T07:54:34.341628Z",
     "shell.execute_reply": "2021-11-11T07:54:34.342149Z",
     "shell.execute_reply.started": "2021-11-10T09:58:19.615303Z"
    },
    "papermill": {
     "duration": 0.112409,
     "end_time": "2021-11-11T07:54:34.342329",
     "exception": false,
     "start_time": "2021-11-11T07:54:34.229920",
     "status": "completed"
    },
    "tags": []
   },
   "outputs": [],
   "source": [
    "# Normalizing Genre count by dividing it by total drama per actor\n",
    "for c in cols_count:\n",
    "    actorFeatures[c] = actorFeatures[c]/ actorFeatures['total_drama']\n",
    "    \n",
    "# Normalizing Lead count by dividing it by total drama per actor\n",
    "for c in cols_lead:\n",
    "    actorFeatures[c] = actorFeatures[c]/ actorFeatures['total_drama']\n",
    "    \n",
    "# Normalizing Acc Lead count by dividing it by total drama per actor\n",
    "for c in cols_posAcc:\n",
    "    actorFeatures[c] = actorFeatures[c]/ actorFeatures['total_drama']\n",
    "    \n",
    "for c in cols_posWt:\n",
    "    actorFeatures[c] = actorFeatures[c]/ actorFeatures['total_drama']\n",
    "    \n",
    "actorFeatures['avgRating'] = actorFeatures['total_rating']/actorFeatures['total_drama']\n",
    "\n",
    "scaler = MinMaxScaler()\n",
    "actorFeatures[['recency_avg', 'total_drama']] = scaler.fit_transform(actorFeatures[['recency_avg', 'total_drama']])\n",
    "actorFeatures[cols_avgRating] = scaler.fit_transform(actorFeatures[cols_avgRating])\n",
    "actorFeatures[cols_posWt] = scaler.fit_transform(actorFeatures[cols_posWt])"
   ]
  },
  {
   "cell_type": "markdown",
   "id": "762b3bf7",
   "metadata": {
    "papermill": {
     "duration": 0.025553,
     "end_time": "2021-11-11T07:54:34.393625",
     "exception": false,
     "start_time": "2021-11-11T07:54:34.368072",
     "status": "completed"
    },
    "tags": []
   },
   "source": [
    "## III.A. Find Closest Actors by Cosine Similarity"
   ]
  },
  {
   "cell_type": "code",
   "execution_count": 18,
   "id": "caf5c7ac",
   "metadata": {
    "execution": {
     "iopub.execute_input": "2021-11-11T07:54:34.449264Z",
     "iopub.status.busy": "2021-11-11T07:54:34.448268Z",
     "iopub.status.idle": "2021-11-11T07:54:34.605796Z",
     "shell.execute_reply": "2021-11-11T07:54:34.607142Z",
     "shell.execute_reply.started": "2021-11-10T09:58:19.72762Z"
    },
    "papermill": {
     "duration": 0.187783,
     "end_time": "2021-11-11T07:54:34.607420",
     "exception": false,
     "start_time": "2021-11-11T07:54:34.419637",
     "status": "completed"
    },
    "tags": []
   },
   "outputs": [],
   "source": [
    "# Define what features to use\n",
    "cols_all = cols_posWt + cols_avgRating + ['recency_avg']\n",
    "\n",
    "# Calculate Cosine Similarity among actors\n",
    "sim = pairwise.cosine_similarity(actorFeatures[cols_all])"
   ]
  },
  {
   "cell_type": "code",
   "execution_count": 19,
   "id": "96ac1566",
   "metadata": {
    "execution": {
     "iopub.execute_input": "2021-11-11T07:54:34.678160Z",
     "iopub.status.busy": "2021-11-11T07:54:34.677029Z",
     "iopub.status.idle": "2021-11-11T07:54:34.686796Z",
     "shell.execute_reply": "2021-11-11T07:54:34.687457Z",
     "shell.execute_reply.started": "2021-11-10T09:58:43.19704Z"
    },
    "papermill": {
     "duration": 0.048289,
     "end_time": "2021-11-11T07:54:34.687706",
     "exception": false,
     "start_time": "2021-11-11T07:54:34.639417",
     "status": "completed"
    },
    "tags": []
   },
   "outputs": [
    {
     "name": "stdout",
     "output_type": "stream",
     "text": [
      "1 Jin-young Jung 0.9874\n",
      "2 Jin Yi-Han 0.9855\n",
      "3 Ki Do-Hoon 0.9732\n",
      "4 Oh-jung Kwon 0.9715\n",
      "5 Yun-a Oh 0.9394\n",
      "6 Joon-seok Heo 0.9385\n",
      "7 Hye Eun Lee 0.9274\n",
      "8 Sol-bin Ahn 0.9269\n",
      "9 Lee Yoo-Bi 0.9269\n",
      "10 Lee Pil-mo 0.9261\n"
     ]
    }
   ],
   "source": [
    "selectActor = \"Kim Seon-Ho\" #define which actor to assess\n",
    "K = 10 #define how many actors are closest to\n",
    "\n",
    "# Get row number of selected Actor\n",
    "row_actor = actorFeatures.index.get_loc(actorFeatures.loc[actorFeatures['actor_name'].str.contains(selectActor)].index[0])\n",
    "# Get K closest actorFeatures (returned row numbers)\n",
    "row_cands = list(reversed(np.argsort(sim[row_actor])[-K-1:-1]))\n",
    "# Show K closest actorFeatures\n",
    "for i in range(K):\n",
    "    print(i+1, actorFeatures.iloc[row_cands[i], 0], np.round(sim[row_actor][row_cands[i]],4))"
   ]
  },
  {
   "cell_type": "markdown",
   "id": "ff863696",
   "metadata": {
    "papermill": {
     "duration": 0.025917,
     "end_time": "2021-11-11T07:54:34.740063",
     "exception": false,
     "start_time": "2021-11-11T07:54:34.714146",
     "status": "completed"
    },
    "tags": []
   },
   "source": [
    "## Find Closest Actors by K Nearest Neighbors"
   ]
  },
  {
   "cell_type": "code",
   "execution_count": 20,
   "id": "61fadd1f",
   "metadata": {
    "execution": {
     "iopub.execute_input": "2021-11-11T07:54:34.803832Z",
     "iopub.status.busy": "2021-11-11T07:54:34.802838Z",
     "iopub.status.idle": "2021-11-11T07:54:34.849195Z",
     "shell.execute_reply": "2021-11-11T07:54:34.848631Z",
     "shell.execute_reply.started": "2021-11-10T09:58:48.086272Z"
    },
    "papermill": {
     "duration": 0.081151,
     "end_time": "2021-11-11T07:54:34.849335",
     "exception": false,
     "start_time": "2021-11-11T07:54:34.768184",
     "status": "completed"
    },
    "tags": []
   },
   "outputs": [
    {
     "name": "stdout",
     "output_type": "stream",
     "text": [
      "Actor Name: Kim Seon-Ho\n",
      "With K-Nearest Neighbors\n",
      "1 Kang Ha-Neul 0.3749\n",
      "2 Jeong-an Chae 0.3965\n",
      "3 Park Joon-geum 0.5606\n",
      "4 Park Hae-joon 0.5701\n",
      "5 Jang Young-hyeon 0.8351\n"
     ]
    }
   ],
   "source": [
    "# Find the actor ID\n",
    "selectActor = \"Kim Seon-Ho\"\n",
    "K = 5\n",
    "cols_all = cols_posWt + cols_avgRating + ['recency_avg']\n",
    "id_ = actorFeatures.loc[actorFeatures['actor_name'].str.contains(selectActor)].index[0]\n",
    "\n",
    "print(\"Actor Name:\", selectActor)\n",
    "print(\"With K-Nearest Neighbors\")\n",
    "\n",
    "actor_vec = actorFeatures.loc[actorFeatures.index == id_, cols_all].values.reshape(1, -1) #Get the actor vector\n",
    "recs = actorFeatures.drop(actorFeatures[actorFeatures.index == id_].index, axis = 0)[cols_all] #Get the rest vectors\n",
    "\n",
    "# Define model, using K with Euclidean distance\n",
    "knn = NearestNeighbors(n_neighbors=K, p=2)\n",
    "knn.fit(recs)\n",
    "\n",
    "# Return closest actorFeatures\n",
    "idxs = knn.kneighbors(actor_vec, return_distance=True)\n",
    "for i in range(K):\n",
    "    print(i+1, actorFeatures.iloc[idxs[1][0][i]]['actor_name'], np.round(idxs[0][0][i],4))"
   ]
  },
  {
   "cell_type": "code",
   "execution_count": null,
   "id": "172548d5",
   "metadata": {
    "papermill": {
     "duration": 0.026677,
     "end_time": "2021-11-11T07:54:34.902562",
     "exception": false,
     "start_time": "2021-11-11T07:54:34.875885",
     "status": "completed"
    },
    "tags": []
   },
   "outputs": [],
   "source": []
  }
 ],
 "metadata": {
  "kernelspec": {
   "display_name": "Python 3",
   "language": "python",
   "name": "python3"
  },
  "language_info": {
   "codemirror_mode": {
    "name": "ipython",
    "version": 3
   },
   "file_extension": ".py",
   "mimetype": "text/x-python",
   "name": "python",
   "nbconvert_exporter": "python",
   "pygments_lexer": "ipython3",
   "version": "3.7.10"
  },
  "papermill": {
   "default_parameters": {},
   "duration": 82.534669,
   "end_time": "2021-11-11T07:54:35.638891",
   "environment_variables": {},
   "exception": null,
   "input_path": "__notebook__.ipynb",
   "output_path": "__notebook__.ipynb",
   "parameters": {},
   "start_time": "2021-11-11T07:53:13.104222",
   "version": "2.3.3"
  }
 },
 "nbformat": 4,
 "nbformat_minor": 5
}
