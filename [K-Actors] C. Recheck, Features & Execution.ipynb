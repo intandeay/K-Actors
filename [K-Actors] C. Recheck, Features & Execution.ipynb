{
 "cells": [
  {
   "cell_type": "code",
   "execution_count": 1,
   "id": "35870a3b",
   "metadata": {
    "_cell_guid": "b1076dfc-b9ad-4769-8c92-a6c4dae69d19",
    "_uuid": "8f2839f25d086af736a60e9eeb907d3b93b6e0e5",
    "execution": {
     "iopub.execute_input": "2021-12-05T10:26:55.318474Z",
     "iopub.status.busy": "2021-12-05T10:26:55.317848Z",
     "iopub.status.idle": "2021-12-05T10:27:07.460772Z",
     "shell.execute_reply": "2021-12-05T10:27:07.461313Z",
     "shell.execute_reply.started": "2021-12-05T09:38:28.857413Z"
    },
    "papermill": {
     "duration": 12.173007,
     "end_time": "2021-12-05T10:27:07.461820",
     "exception": false,
     "start_time": "2021-12-05T10:26:55.288813",
     "status": "completed"
    },
    "tags": []
   },
   "outputs": [
    {
     "name": "stdout",
     "output_type": "stream",
     "text": [
      "Collecting imdbpy\r\n",
      "  Downloading IMDbPY-2021.4.18-py3-none-any.whl (298 kB)\r\n",
      "\u001b[K     |████████████████████████████████| 298 kB 895 kB/s \r\n",
      "\u001b[?25hRequirement already satisfied: lxml in /opt/conda/lib/python3.7/site-packages (from imdbpy) (4.6.3)\r\n",
      "Requirement already satisfied: SQLAlchemy in /opt/conda/lib/python3.7/site-packages (from imdbpy) (1.4.25)\r\n",
      "Requirement already satisfied: importlib-metadata in /opt/conda/lib/python3.7/site-packages (from SQLAlchemy->imdbpy) (4.8.1)\r\n",
      "Requirement already satisfied: greenlet!=0.4.17 in /opt/conda/lib/python3.7/site-packages (from SQLAlchemy->imdbpy) (1.1.1)\r\n",
      "Requirement already satisfied: typing-extensions>=3.6.4 in /opt/conda/lib/python3.7/site-packages (from importlib-metadata->SQLAlchemy->imdbpy) (3.10.0.2)\r\n",
      "Requirement already satisfied: zipp>=0.5 in /opt/conda/lib/python3.7/site-packages (from importlib-metadata->SQLAlchemy->imdbpy) (3.5.0)\r\n",
      "Installing collected packages: imdbpy\r\n",
      "Successfully installed imdbpy-2021.4.18\r\n",
      "\u001b[33mWARNING: Running pip as the 'root' user can result in broken permissions and conflicting behaviour with the system package manager. It is recommended to use a virtual environment instead: https://pip.pypa.io/warnings/venv\u001b[0m\r\n"
     ]
    },
    {
     "name": "stderr",
     "output_type": "stream",
     "text": [
      "2021-12-05 10:27:07,247 INFO [imdbpy.parser.http.piculet] /opt/conda/lib/python3.7/site-packages/imdb/parser/http/piculet.py:262: using lxml\n"
     ]
    }
   ],
   "source": [
    "import pandas as pd\n",
    "import numpy as np\n",
    "from sklearn.preprocessing import MinMaxScaler\n",
    "import operator\n",
    "from sklearn.neighbors import NearestNeighbors\n",
    "from scipy.spatial import minkowski_distance, distance\n",
    "from sklearn.metrics import pairwise\n",
    "\n",
    "!pip install imdbpy\n",
    "from imdb import IMDb\n",
    "ia = IMDb()"
   ]
  },
  {
   "cell_type": "code",
   "execution_count": 2,
   "id": "7c1e4b53",
   "metadata": {
    "execution": {
     "iopub.execute_input": "2021-12-05T10:27:07.514467Z",
     "iopub.status.busy": "2021-12-05T10:27:07.513509Z",
     "iopub.status.idle": "2021-12-05T10:27:07.562998Z",
     "shell.execute_reply": "2021-12-05T10:27:07.563605Z",
     "shell.execute_reply.started": "2021-12-05T09:38:39.573808Z"
    },
    "papermill": {
     "duration": 0.075954,
     "end_time": "2021-12-05T10:27:07.563804",
     "exception": false,
     "start_time": "2021-12-05T10:27:07.487850",
     "status": "completed"
    },
    "tags": []
   },
   "outputs": [
    {
     "data": {
      "text/plain": [
       "(1234, 11)"
      ]
     },
     "execution_count": 2,
     "metadata": {},
     "output_type": "execute_result"
    }
   ],
   "source": [
    "# kdramas = pd.read_csv(\"../input/ii-completing-dataset-with-imdbpy/kdrama_v1.csv\")\n",
    "kdramas = pd.read_csv(\"../input/imdb-korea/kdrama_v1.csv\")\n",
    "kdramas.shape\n",
    "# kdramas.head()"
   ]
  },
  {
   "cell_type": "code",
   "execution_count": 3,
   "id": "cd6f408b",
   "metadata": {
    "execution": {
     "iopub.execute_input": "2021-12-05T10:27:07.618179Z",
     "iopub.status.busy": "2021-12-05T10:27:07.617296Z",
     "iopub.status.idle": "2021-12-05T10:27:07.638387Z",
     "shell.execute_reply": "2021-12-05T10:27:07.638967Z",
     "shell.execute_reply.started": "2021-12-05T09:38:39.65062Z"
    },
    "papermill": {
     "duration": 0.052395,
     "end_time": "2021-12-05T10:27:07.639151",
     "exception": false,
     "start_time": "2021-12-05T10:27:07.586756",
     "status": "completed"
    },
    "tags": []
   },
   "outputs": [
    {
     "name": "stdout",
     "output_type": "stream",
     "text": [
      "<class 'pandas.core.frame.DataFrame'>\n",
      "RangeIndex: 1234 entries, 0 to 1233\n",
      "Data columns (total 11 columns):\n",
      " #   Column      Non-Null Count  Dtype  \n",
      "---  ------      --------------  -----  \n",
      " 0   title       1234 non-null   object \n",
      " 1   year        1234 non-null   object \n",
      " 2   movie_id    1216 non-null   float64\n",
      " 3   title_new   1216 non-null   object \n",
      " 4   country     1162 non-null   object \n",
      " 5   cast_IDs    1184 non-null   object \n",
      " 6   cast_names  1184 non-null   object \n",
      " 7   genres      1191 non-null   object \n",
      " 8   rating      1067 non-null   float64\n",
      " 9   year_new    1199 non-null   float64\n",
      " 10  type        1199 non-null   object \n",
      "dtypes: float64(3), object(8)\n",
      "memory usage: 106.2+ KB\n"
     ]
    }
   ],
   "source": [
    "kdramas.info()"
   ]
  },
  {
   "cell_type": "code",
   "execution_count": 4,
   "id": "1bf28d17",
   "metadata": {
    "execution": {
     "iopub.execute_input": "2021-12-05T10:27:07.689357Z",
     "iopub.status.busy": "2021-12-05T10:27:07.688709Z",
     "iopub.status.idle": "2021-12-05T10:27:07.694334Z",
     "shell.execute_reply": "2021-12-05T10:27:07.693706Z",
     "shell.execute_reply.started": "2021-12-05T09:38:39.678826Z"
    },
    "papermill": {
     "duration": 0.031765,
     "end_time": "2021-12-05T10:27:07.694481",
     "exception": false,
     "start_time": "2021-12-05T10:27:07.662716",
     "status": "completed"
    },
    "tags": []
   },
   "outputs": [
    {
     "data": {
      "text/plain": [
       "(1234, 11)"
      ]
     },
     "execution_count": 4,
     "metadata": {},
     "output_type": "execute_result"
    }
   ],
   "source": [
    "kdramas.shape"
   ]
  },
  {
   "cell_type": "code",
   "execution_count": 5,
   "id": "1528ddb5",
   "metadata": {
    "execution": {
     "iopub.execute_input": "2021-12-05T10:27:07.749189Z",
     "iopub.status.busy": "2021-12-05T10:27:07.748026Z",
     "iopub.status.idle": "2021-12-05T10:27:07.751940Z",
     "shell.execute_reply": "2021-12-05T10:27:07.752453Z",
     "shell.execute_reply.started": "2021-12-05T09:38:39.685543Z"
    },
    "papermill": {
     "duration": 0.034145,
     "end_time": "2021-12-05T10:27:07.752619",
     "exception": false,
     "start_time": "2021-12-05T10:27:07.718474",
     "status": "completed"
    },
    "tags": []
   },
   "outputs": [],
   "source": [
    "kdramas['movie_id'] = kdramas['movie_id'].fillna(-1).astype(int)\n",
    "kdramas['year_new'] = kdramas['year_new'].fillna(-1).astype(int)"
   ]
  },
  {
   "cell_type": "markdown",
   "id": "8b3dd616",
   "metadata": {
    "papermill": {
     "duration": 0.024803,
     "end_time": "2021-12-05T10:27:07.801224",
     "exception": false,
     "start_time": "2021-12-05T10:27:07.776421",
     "status": "completed"
    },
    "tags": []
   },
   "source": [
    "## I. Recheck"
   ]
  },
  {
   "cell_type": "code",
   "execution_count": 6,
   "id": "613136c2",
   "metadata": {
    "execution": {
     "iopub.execute_input": "2021-12-05T10:27:07.860330Z",
     "iopub.status.busy": "2021-12-05T10:27:07.859329Z",
     "iopub.status.idle": "2021-12-05T10:27:07.871153Z",
     "shell.execute_reply": "2021-12-05T10:27:07.871723Z",
     "shell.execute_reply.started": "2021-12-05T09:38:39.69849Z"
    },
    "papermill": {
     "duration": 0.045555,
     "end_time": "2021-12-05T10:27:07.871908",
     "exception": false,
     "start_time": "2021-12-05T10:27:07.826353",
     "status": "completed"
    },
    "tags": []
   },
   "outputs": [],
   "source": [
    "# Remove entries with non-korean origin\n",
    "kdramas  = kdramas[kdramas['country'] == 'kr']\n",
    "\n",
    "# Remove entries without casts\n",
    "kdramas = kdramas[kdramas['cast_names'].notnull()]\n",
    "\n",
    "# Limit only tv series\n",
    "kdramas = kdramas[kdramas['type'] == 'tv series']"
   ]
  },
  {
   "cell_type": "code",
   "execution_count": 7,
   "id": "e915463a",
   "metadata": {
    "execution": {
     "iopub.execute_input": "2021-12-05T10:27:07.924716Z",
     "iopub.status.busy": "2021-12-05T10:27:07.924069Z",
     "iopub.status.idle": "2021-12-05T10:27:07.940816Z",
     "shell.execute_reply": "2021-12-05T10:27:07.941449Z",
     "shell.execute_reply.started": "2021-12-05T09:38:39.717049Z"
    },
    "papermill": {
     "duration": 0.045007,
     "end_time": "2021-12-05T10:27:07.941675",
     "exception": false,
     "start_time": "2021-12-05T10:27:07.896668",
     "status": "completed"
    },
    "tags": []
   },
   "outputs": [
    {
     "name": "stdout",
     "output_type": "stream",
     "text": [
      "<class 'pandas.core.frame.DataFrame'>\n",
      "Int64Index: 1010 entries, 0 to 1233\n",
      "Data columns (total 11 columns):\n",
      " #   Column      Non-Null Count  Dtype  \n",
      "---  ------      --------------  -----  \n",
      " 0   title       1010 non-null   object \n",
      " 1   year        1010 non-null   object \n",
      " 2   movie_id    1010 non-null   int64  \n",
      " 3   title_new   1010 non-null   object \n",
      " 4   country     1010 non-null   object \n",
      " 5   cast_IDs    1010 non-null   object \n",
      " 6   cast_names  1010 non-null   object \n",
      " 7   genres      1006 non-null   object \n",
      " 8   rating      935 non-null    float64\n",
      " 9   year_new    1010 non-null   int64  \n",
      " 10  type        1010 non-null   object \n",
      "dtypes: float64(1), int64(2), object(8)\n",
      "memory usage: 94.7+ KB\n"
     ]
    }
   ],
   "source": [
    "kdramas.info()"
   ]
  },
  {
   "cell_type": "code",
   "execution_count": 8,
   "id": "96c9ef19",
   "metadata": {
    "execution": {
     "iopub.execute_input": "2021-12-05T10:27:08.001839Z",
     "iopub.status.busy": "2021-12-05T10:27:08.000799Z",
     "iopub.status.idle": "2021-12-05T10:27:08.097579Z",
     "shell.execute_reply": "2021-12-05T10:27:08.098375Z",
     "shell.execute_reply.started": "2021-12-05T09:38:39.735786Z"
    },
    "papermill": {
     "duration": 0.128572,
     "end_time": "2021-12-05T10:27:08.098615",
     "exception": false,
     "start_time": "2021-12-05T10:27:07.970043",
     "status": "completed"
    },
    "tags": []
   },
   "outputs": [],
   "source": [
    "genres = []\n",
    "actorFeatures = {}\n",
    "kdramas['genres'] = kdramas['genres'].fillna('unk')\n",
    "# Removed unfound /unrelated genres\n",
    "kdramas = kdramas[(~kdramas['genres'].str.contains(\"Reality-TV\")) & (~kdramas['genres'].str.contains(\"unk\"))]\n",
    "\n",
    "for idx,row in kdramas.iterrows():\n",
    "    \n",
    "    # collecting genres\n",
    "    gr = row['genres']\n",
    "    for g in gr.split(','):\n",
    "        if g not in genres:\n",
    "            genres.append(g)\n",
    "    \n",
    "    # making new dataset: actor ID & Names\n",
    "    actor_ids = row['cast_IDs'].split(',')\n",
    "    actor_names = row['cast_names'].split(',')\n",
    "    \n",
    "    for i in range(len(actor_ids)):\n",
    "        if i < 10 and actor_ids[i] not in actorFeatures:\n",
    "            actorFeatures[actor_ids[i]] = actor_names[i]\n",
    "            \n",
    "actorFeatures = pd.DataFrame.from_dict(actorFeatures, orient='index').reset_index()\n",
    "actorFeatures.columns = ['actor_ID', 'actor_name']\n",
    "actorFeatures['actor_ID'] = actorFeatures['actor_ID'].astype(int)"
   ]
  },
  {
   "cell_type": "code",
   "execution_count": 9,
   "id": "06e6ca1e",
   "metadata": {
    "execution": {
     "iopub.execute_input": "2021-12-05T10:27:08.167078Z",
     "iopub.status.busy": "2021-12-05T10:27:08.166031Z",
     "iopub.status.idle": "2021-12-05T10:27:08.306514Z",
     "shell.execute_reply": "2021-12-05T10:27:08.307104Z",
     "shell.execute_reply.started": "2021-12-05T09:38:39.817202Z"
    },
    "papermill": {
     "duration": 0.178028,
     "end_time": "2021-12-05T10:27:08.307280",
     "exception": false,
     "start_time": "2021-12-05T10:27:08.129252",
     "status": "completed"
    },
    "tags": []
   },
   "outputs": [],
   "source": [
    "# Make a dictionary to store averaged rating per genre\n",
    "genres_dict = {}\n",
    "for genre in genres:\n",
    "    genres_dict[genre] = []\n",
    "    \n",
    "rating_filled = kdramas[kdramas.rating.notnull()]\n",
    "\n",
    "for i, dr in rating_filled.iterrows():\n",
    "    gr = dr['genres']\n",
    "    for g in gr.split(','):\n",
    "        genres_dict[g].append(dr['rating'])\n",
    "        \n",
    "for k in genres_dict.keys():\n",
    "    genres_dict[k] = np.average(genres_dict[k])\n",
    "    \n",
    "# Fill unknown rating per genre\n",
    "for i, d in kdramas.iterrows():\n",
    "    if np.isnan(d['rating']):\n",
    "        genres1 = d['genres'].split(',')\n",
    "        genres_rating = []\n",
    "        for g in genres1:\n",
    "            genres_rating.append(genres_dict[g])\n",
    "        kdramas.loc[i, 'rating'] = np.average(genres_rating)"
   ]
  },
  {
   "cell_type": "code",
   "execution_count": 10,
   "id": "7511ae6a",
   "metadata": {
    "execution": {
     "iopub.execute_input": "2021-12-05T10:27:08.359127Z",
     "iopub.status.busy": "2021-12-05T10:27:08.358160Z",
     "iopub.status.idle": "2021-12-05T10:27:08.366163Z",
     "shell.execute_reply": "2021-12-05T10:27:08.366736Z",
     "shell.execute_reply.started": "2021-12-05T09:38:39.952364Z"
    },
    "papermill": {
     "duration": 0.035752,
     "end_time": "2021-12-05T10:27:08.366919",
     "exception": false,
     "start_time": "2021-12-05T10:27:08.331167",
     "status": "completed"
    },
    "tags": []
   },
   "outputs": [],
   "source": [
    "cols = ['movie_id', 'title_new', 'cast_IDs', 'cast_names', 'genres', 'rating', 'year_new']\n",
    "kdramas = kdramas[cols]\n",
    "kdramas.columns=['movie_id', 'title', 'cast_IDs', 'cast_names', 'genres', 'rating','year']\n",
    "# getting rid of duplicates\n",
    "kdramas = kdramas.drop_duplicates(subset = 'movie_id')"
   ]
  },
  {
   "cell_type": "code",
   "execution_count": 11,
   "id": "a5d10bf8",
   "metadata": {
    "execution": {
     "iopub.execute_input": "2021-12-05T10:27:08.418852Z",
     "iopub.status.busy": "2021-12-05T10:27:08.417915Z",
     "iopub.status.idle": "2021-12-05T10:27:08.433774Z",
     "shell.execute_reply": "2021-12-05T10:27:08.434431Z",
     "shell.execute_reply.started": "2021-12-05T09:38:39.963837Z"
    },
    "papermill": {
     "duration": 0.043767,
     "end_time": "2021-12-05T10:27:08.434614",
     "exception": false,
     "start_time": "2021-12-05T10:27:08.390847",
     "status": "completed"
    },
    "tags": []
   },
   "outputs": [
    {
     "data": {
      "text/html": [
       "<div>\n",
       "<style scoped>\n",
       "    .dataframe tbody tr th:only-of-type {\n",
       "        vertical-align: middle;\n",
       "    }\n",
       "\n",
       "    .dataframe tbody tr th {\n",
       "        vertical-align: top;\n",
       "    }\n",
       "\n",
       "    .dataframe thead th {\n",
       "        text-align: right;\n",
       "    }\n",
       "</style>\n",
       "<table border=\"1\" class=\"dataframe\">\n",
       "  <thead>\n",
       "    <tr style=\"text-align: right;\">\n",
       "      <th></th>\n",
       "      <th>movie_id</th>\n",
       "      <th>title</th>\n",
       "      <th>cast_IDs</th>\n",
       "      <th>cast_names</th>\n",
       "      <th>genres</th>\n",
       "      <th>rating</th>\n",
       "      <th>year</th>\n",
       "    </tr>\n",
       "  </thead>\n",
       "  <tbody>\n",
       "    <tr>\n",
       "      <th>0</th>\n",
       "      <td>8199972</td>\n",
       "      <td>100 Days My Prince</td>\n",
       "      <td>6765553,2305471,1443295,3498542,9170918,789033...</td>\n",
       "      <td>Kyung-soo Do,Nam Ji-Hyun,Jo Sung-ha,Jo Han-chu...</td>\n",
       "      <td>Action,Comedy,History,Romance</td>\n",
       "      <td>7.7</td>\n",
       "      <td>2018</td>\n",
       "    </tr>\n",
       "    <tr>\n",
       "      <th>1</th>\n",
       "      <td>5476252</td>\n",
       "      <td>12 Years Promise</td>\n",
       "      <td>10213650,1452474,1224530,0046276,6857341,37533...</td>\n",
       "      <td>Im Ji-Hyun,So-yeon Lee,Min Namkoong,Chong-ok B...</td>\n",
       "      <td>Comedy,Drama,Romance</td>\n",
       "      <td>7.4</td>\n",
       "      <td>2014</td>\n",
       "    </tr>\n",
       "    <tr>\n",
       "      <th>2</th>\n",
       "      <td>12846096</td>\n",
       "      <td>18 Again</td>\n",
       "      <td>6327190,2341244,9946376,7591921,11794543,69165...</td>\n",
       "      <td>Ha-neul Kim,Yoon Sang-Hyun,Lee Do-Hyun,No Jeon...</td>\n",
       "      <td>Comedy,Fantasy,Romance</td>\n",
       "      <td>8.2</td>\n",
       "      <td>2020</td>\n",
       "    </tr>\n",
       "    <tr>\n",
       "      <th>3</th>\n",
       "      <td>12015466</td>\n",
       "      <td>365: Repeat the Year</td>\n",
       "      <td>3789806,2305471,1790874,11794543,12016813,1052...</td>\n",
       "      <td>Lee Joon-hyuk,Nam Ji-Hyun,Kim Ji-Soo,Ryeoun,Le...</td>\n",
       "      <td>Crime,Drama,Fantasy,Mystery,Thriller</td>\n",
       "      <td>8.1</td>\n",
       "      <td>2020</td>\n",
       "    </tr>\n",
       "    <tr>\n",
       "      <th>4</th>\n",
       "      <td>4449190</td>\n",
       "      <td>The Legendary Witch</td>\n",
       "      <td>1623740,5754288,1085809,5204923,2291768,218888...</td>\n",
       "      <td>Ji-hye Han,Yeon-Soo Ha,Du-shim Ko,Hyun-Kyung O...</td>\n",
       "      <td>Drama,Romance</td>\n",
       "      <td>7.6</td>\n",
       "      <td>2014</td>\n",
       "    </tr>\n",
       "  </tbody>\n",
       "</table>\n",
       "</div>"
      ],
      "text/plain": [
       "   movie_id                 title  \\\n",
       "0   8199972    100 Days My Prince   \n",
       "1   5476252      12 Years Promise   \n",
       "2  12846096              18 Again   \n",
       "3  12015466  365: Repeat the Year   \n",
       "4   4449190   The Legendary Witch   \n",
       "\n",
       "                                            cast_IDs  \\\n",
       "0  6765553,2305471,1443295,3498542,9170918,789033...   \n",
       "1  10213650,1452474,1224530,0046276,6857341,37533...   \n",
       "2  6327190,2341244,9946376,7591921,11794543,69165...   \n",
       "3  3789806,2305471,1790874,11794543,12016813,1052...   \n",
       "4  1623740,5754288,1085809,5204923,2291768,218888...   \n",
       "\n",
       "                                          cast_names  \\\n",
       "0  Kyung-soo Do,Nam Ji-Hyun,Jo Sung-ha,Jo Han-chu...   \n",
       "1  Im Ji-Hyun,So-yeon Lee,Min Namkoong,Chong-ok B...   \n",
       "2  Ha-neul Kim,Yoon Sang-Hyun,Lee Do-Hyun,No Jeon...   \n",
       "3  Lee Joon-hyuk,Nam Ji-Hyun,Kim Ji-Soo,Ryeoun,Le...   \n",
       "4  Ji-hye Han,Yeon-Soo Ha,Du-shim Ko,Hyun-Kyung O...   \n",
       "\n",
       "                                 genres  rating  year  \n",
       "0         Action,Comedy,History,Romance     7.7  2018  \n",
       "1                  Comedy,Drama,Romance     7.4  2014  \n",
       "2                Comedy,Fantasy,Romance     8.2  2020  \n",
       "3  Crime,Drama,Fantasy,Mystery,Thriller     8.1  2020  \n",
       "4                         Drama,Romance     7.6  2014  "
      ]
     },
     "execution_count": 11,
     "metadata": {},
     "output_type": "execute_result"
    }
   ],
   "source": [
    "kdramas.head()"
   ]
  },
  {
   "cell_type": "code",
   "execution_count": 12,
   "id": "9f20db93",
   "metadata": {
    "execution": {
     "iopub.execute_input": "2021-12-05T10:27:08.487279Z",
     "iopub.status.busy": "2021-12-05T10:27:08.486349Z",
     "iopub.status.idle": "2021-12-05T10:27:08.491333Z",
     "shell.execute_reply": "2021-12-05T10:27:08.491925Z",
     "shell.execute_reply.started": "2021-12-05T09:38:39.988103Z"
    },
    "papermill": {
     "duration": 0.033132,
     "end_time": "2021-12-05T10:27:08.492083",
     "exception": false,
     "start_time": "2021-12-05T10:27:08.458951",
     "status": "completed"
    },
    "tags": []
   },
   "outputs": [
    {
     "data": {
      "text/plain": [
       "(994, 7)"
      ]
     },
     "execution_count": 12,
     "metadata": {},
     "output_type": "execute_result"
    }
   ],
   "source": [
    "kdramas.shape"
   ]
  },
  {
   "cell_type": "code",
   "execution_count": 13,
   "id": "aebe35a8",
   "metadata": {
    "execution": {
     "iopub.execute_input": "2021-12-05T10:27:08.545444Z",
     "iopub.status.busy": "2021-12-05T10:27:08.544492Z",
     "iopub.status.idle": "2021-12-05T10:27:08.552906Z",
     "shell.execute_reply": "2021-12-05T10:27:08.553424Z",
     "shell.execute_reply.started": "2021-12-05T09:38:39.994697Z"
    },
    "papermill": {
     "duration": 0.036983,
     "end_time": "2021-12-05T10:27:08.553593",
     "exception": false,
     "start_time": "2021-12-05T10:27:08.516610",
     "status": "completed"
    },
    "tags": []
   },
   "outputs": [
    {
     "data": {
      "text/html": [
       "<div>\n",
       "<style scoped>\n",
       "    .dataframe tbody tr th:only-of-type {\n",
       "        vertical-align: middle;\n",
       "    }\n",
       "\n",
       "    .dataframe tbody tr th {\n",
       "        vertical-align: top;\n",
       "    }\n",
       "\n",
       "    .dataframe thead th {\n",
       "        text-align: right;\n",
       "    }\n",
       "</style>\n",
       "<table border=\"1\" class=\"dataframe\">\n",
       "  <thead>\n",
       "    <tr style=\"text-align: right;\">\n",
       "      <th></th>\n",
       "      <th>actor_ID</th>\n",
       "      <th>actor_name</th>\n",
       "    </tr>\n",
       "  </thead>\n",
       "  <tbody>\n",
       "    <tr>\n",
       "      <th>0</th>\n",
       "      <td>6765553</td>\n",
       "      <td>Kyung-soo Do</td>\n",
       "    </tr>\n",
       "    <tr>\n",
       "      <th>1</th>\n",
       "      <td>2305471</td>\n",
       "      <td>Nam Ji-Hyun</td>\n",
       "    </tr>\n",
       "    <tr>\n",
       "      <th>2</th>\n",
       "      <td>1443295</td>\n",
       "      <td>Jo Sung-ha</td>\n",
       "    </tr>\n",
       "    <tr>\n",
       "      <th>3</th>\n",
       "      <td>3498542</td>\n",
       "      <td>Jo Han-chul</td>\n",
       "    </tr>\n",
       "    <tr>\n",
       "      <th>4</th>\n",
       "      <td>9170918</td>\n",
       "      <td>Kim Seon-Ho</td>\n",
       "    </tr>\n",
       "  </tbody>\n",
       "</table>\n",
       "</div>"
      ],
      "text/plain": [
       "   actor_ID    actor_name\n",
       "0   6765553  Kyung-soo Do\n",
       "1   2305471   Nam Ji-Hyun\n",
       "2   1443295    Jo Sung-ha\n",
       "3   3498542   Jo Han-chul\n",
       "4   9170918   Kim Seon-Ho"
      ]
     },
     "execution_count": 13,
     "metadata": {},
     "output_type": "execute_result"
    }
   ],
   "source": [
    "actorFeatures.head()"
   ]
  },
  {
   "cell_type": "code",
   "execution_count": 14,
   "id": "45945762",
   "metadata": {
    "execution": {
     "iopub.execute_input": "2021-12-05T10:27:08.610405Z",
     "iopub.status.busy": "2021-12-05T10:27:08.609453Z",
     "iopub.status.idle": "2021-12-05T10:27:08.616304Z",
     "shell.execute_reply": "2021-12-05T10:27:08.616923Z",
     "shell.execute_reply.started": "2021-12-05T09:38:40.011265Z"
    },
    "papermill": {
     "duration": 0.035787,
     "end_time": "2021-12-05T10:27:08.617088",
     "exception": false,
     "start_time": "2021-12-05T10:27:08.581301",
     "status": "completed"
    },
    "tags": []
   },
   "outputs": [],
   "source": [
    "kdramas['num_cast'] = kdramas['cast_IDs'].apply(lambda z: len(z.split(',')))"
   ]
  },
  {
   "cell_type": "code",
   "execution_count": 15,
   "id": "02d24e53",
   "metadata": {
    "execution": {
     "iopub.execute_input": "2021-12-05T10:27:08.670967Z",
     "iopub.status.busy": "2021-12-05T10:27:08.670022Z",
     "iopub.status.idle": "2021-12-05T10:27:08.937745Z",
     "shell.execute_reply": "2021-12-05T10:27:08.938202Z",
     "shell.execute_reply.started": "2021-12-05T09:38:40.026878Z"
    },
    "papermill": {
     "duration": 0.296221,
     "end_time": "2021-12-05T10:27:08.938372",
     "exception": false,
     "start_time": "2021-12-05T10:27:08.642151",
     "status": "completed"
    },
    "tags": []
   },
   "outputs": [
    {
     "data": {
      "text/plain": [
       "<AxesSubplot:ylabel='Frequency'>"
      ]
     },
     "execution_count": 15,
     "metadata": {},
     "output_type": "execute_result"
    },
    {
     "data": {
      "image/png": "[encoded data removed]",
      "text/plain": [
       "<Figure size 432x288 with 1 Axes>"
      ]
     },
     "metadata": {
      "needs_background": "light"
     },
     "output_type": "display_data"
    }
   ],
   "source": [
    "kdramas['num_cast'].plot(kind='hist', bins = 15)"
   ]
  },
  {
   "cell_type": "markdown",
   "id": "bf025dde",
   "metadata": {
    "papermill": {
     "duration": 0.026635,
     "end_time": "2021-12-05T10:27:08.991371",
     "exception": false,
     "start_time": "2021-12-05T10:27:08.964736",
     "status": "completed"
    },
    "tags": []
   },
   "source": [
    "## II. Create New Features"
   ]
  },
  {
   "cell_type": "code",
   "execution_count": 16,
   "id": "c8987e87",
   "metadata": {
    "execution": {
     "iopub.execute_input": "2021-12-05T10:27:09.047622Z",
     "iopub.status.busy": "2021-12-05T10:27:09.046696Z",
     "iopub.status.idle": "2021-12-05T10:27:09.072887Z",
     "shell.execute_reply": "2021-12-05T10:27:09.073396Z",
     "shell.execute_reply.started": "2021-12-05T09:38:40.298097Z"
    },
    "papermill": {
     "duration": 0.055946,
     "end_time": "2021-12-05T10:27:09.073575",
     "exception": false,
     "start_time": "2021-12-05T10:27:09.017629",
     "status": "completed"
    },
    "tags": []
   },
   "outputs": [],
   "source": [
    "actorFeatures = actorFeatures.set_index('actor_ID')\n",
    "\n",
    "## Assigning new Features per Genres\n",
    "for g in genres:\n",
    "    \n",
    "    actorFeatures[g + \"_count\"] = 0\n",
    "    actorFeatures[g + \"_totalRating\"] = 0\n",
    "    actorFeatures[g + \"_avgRating\"] = 0\n",
    "    \n",
    "actorFeatures['total_drama'] = 0\n",
    "actorFeatures['total_rating'] = 0\n",
    "actorFeatures['recency'] = 0\n",
    "actorFeatures['leadTotal'] = 0\n",
    "actorFeatures['supTotal'] = 0\n",
    "actorFeatures['supWt'] = 0\n",
    "actorFeatures['leadWt'] = 0"
   ]
  },
  {
   "cell_type": "code",
   "execution_count": 17,
   "id": "ca20212c",
   "metadata": {
    "execution": {
     "iopub.execute_input": "2021-12-05T10:27:09.129449Z",
     "iopub.status.busy": "2021-12-05T10:27:09.128492Z",
     "iopub.status.idle": "2021-12-05T10:27:29.293381Z",
     "shell.execute_reply": "2021-12-05T10:27:29.292305Z",
     "shell.execute_reply.started": "2021-12-05T09:38:40.329605Z"
    },
    "papermill": {
     "duration": 20.193892,
     "end_time": "2021-12-05T10:27:29.293585",
     "exception": false,
     "start_time": "2021-12-05T10:27:09.099693",
     "status": "completed"
    },
    "tags": []
   },
   "outputs": [],
   "source": [
    "cr_year = 2021\n",
    "# Iterating through each dramas\n",
    "for i, d in kdramas.iterrows():\n",
    "\n",
    "    cast_IDs = d['cast_IDs'].split(',')\n",
    "    grs = d['genres'].split(',')\n",
    "    rating = d['rating']\n",
    "    \n",
    "    diff_yr = cr_year - d['year'] + 1\n",
    "\n",
    "    #Iterating through each cast member\n",
    "    for i in range(len(cast_IDs)):\n",
    "        if i < 10: #Only for first 15 listed actors per drama\n",
    "            id = int(cast_IDs[i])\n",
    "            # assigning total drama\n",
    "            actorFeatures.loc[id, 'total_drama'] += 1\n",
    "            # assigning sum of ratings\n",
    "            actorFeatures.loc[id, 'total_rating'] += rating\n",
    "            actorFeatures.loc[id, 'recency'] += diff_yr\n",
    "\n",
    "            # Defining weights for leads\n",
    "            if i >= 0 and i <= 2:\n",
    "                actorFeatures.loc[id, 'leadWt'] += 2\n",
    "            else:\n",
    "                actorFeatures.loc[id, 'supWt'] += 1\n",
    "\n",
    "            for g in grs:\n",
    "                # assigning genre count\n",
    "                actorFeatures.loc[id, g + '_count'] += 1\n",
    "                # assigning genre rating sum\n",
    "                actorFeatures.loc[id, g + '_totalRating'] += rating"
   ]
  },
  {
   "cell_type": "code",
   "execution_count": 18,
   "id": "a5a3e31d",
   "metadata": {
    "execution": {
     "iopub.execute_input": "2021-12-05T10:27:29.353031Z",
     "iopub.status.busy": "2021-12-05T10:27:29.352358Z",
     "iopub.status.idle": "2021-12-05T10:27:29.363133Z",
     "shell.execute_reply": "2021-12-05T10:27:29.363610Z",
     "shell.execute_reply.started": "2021-12-05T09:38:59.796Z"
    },
    "papermill": {
     "duration": 0.043475,
     "end_time": "2021-12-05T10:27:29.363802",
     "exception": false,
     "start_time": "2021-12-05T10:27:29.320327",
     "status": "completed"
    },
    "tags": []
   },
   "outputs": [],
   "source": [
    "# Get average recency per actor\n",
    "actorFeatures['recency_avg']= actorFeatures['recency']/actorFeatures['total_drama']\n",
    "# Get average rating per genre\n",
    "for g in genres:\n",
    "    actorFeatures[g + \"_avgRating\"] = actorFeatures[g + \"_totalRating\"]/actorFeatures[g + \"_count\"]"
   ]
  },
  {
   "cell_type": "code",
   "execution_count": 19,
   "id": "f268efdc",
   "metadata": {
    "execution": {
     "iopub.execute_input": "2021-12-05T10:27:29.425758Z",
     "iopub.status.busy": "2021-12-05T10:27:29.425100Z",
     "iopub.status.idle": "2021-12-05T10:27:29.441007Z",
     "shell.execute_reply": "2021-12-05T10:27:29.441513Z",
     "shell.execute_reply.started": "2021-12-05T09:38:59.810752Z"
    },
    "papermill": {
     "duration": 0.051385,
     "end_time": "2021-12-05T10:27:29.441739",
     "exception": false,
     "start_time": "2021-12-05T10:27:29.390354",
     "status": "completed"
    },
    "tags": []
   },
   "outputs": [],
   "source": [
    "# Select Columns\n",
    "cols_avgRating = [g + '_avgRating' for g in genres] \n",
    "cols_posWt = ['leadWt', 'supWt']\n",
    "\n",
    "for c in cols_posWt:\n",
    "    actorFeatures[c] = actorFeatures[c]/ actorFeatures['total_drama']\n",
    "    \n",
    "# Scale variables\n",
    "scaler = MinMaxScaler()\n",
    "actorFeatures[cols_avgRating] = scaler.fit_transform(actorFeatures[cols_avgRating])\n",
    "actorFeatures[cols_posWt] = scaler.fit_transform(actorFeatures[cols_posWt])\n",
    "\n",
    "# Fill NaNs\n",
    "actorFeatures = actorFeatures.fillna(0)"
   ]
  },
  {
   "cell_type": "markdown",
   "id": "83e1813b",
   "metadata": {
    "papermill": {
     "duration": 0.026073,
     "end_time": "2021-12-05T10:27:29.495416",
     "exception": false,
     "start_time": "2021-12-05T10:27:29.469343",
     "status": "completed"
    },
    "tags": []
   },
   "source": [
    "## III.A. Find Closest Actors"
   ]
  },
  {
   "cell_type": "code",
   "execution_count": 20,
   "id": "ce1e1b1b",
   "metadata": {
    "execution": {
     "iopub.execute_input": "2021-12-05T10:27:29.551574Z",
     "iopub.status.busy": "2021-12-05T10:27:29.550946Z",
     "iopub.status.idle": "2021-12-05T10:27:29.602562Z",
     "shell.execute_reply": "2021-12-05T10:27:29.603452Z",
     "shell.execute_reply.started": "2021-12-05T09:38:59.834698Z"
    },
    "papermill": {
     "duration": 0.081891,
     "end_time": "2021-12-05T10:27:29.603729",
     "exception": false,
     "start_time": "2021-12-05T10:27:29.521838",
     "status": "completed"
    },
    "tags": []
   },
   "outputs": [],
   "source": [
    "# Define what features to use\n",
    "cols_all =  cols_avgRating + ['recency_avg'] + cols_posWt\n",
    "\n",
    "# Calculate Cosine Similarity among actors\n",
    "sim = pairwise.cosine_similarity(actorFeatures[cols_all])"
   ]
  },
  {
   "cell_type": "code",
   "execution_count": 21,
   "id": "0a5b34b1",
   "metadata": {
    "execution": {
     "iopub.execute_input": "2021-12-05T10:27:29.709035Z",
     "iopub.status.busy": "2021-12-05T10:27:29.708018Z",
     "iopub.status.idle": "2021-12-05T10:27:29.757549Z",
     "shell.execute_reply": "2021-12-05T10:27:29.756895Z",
     "shell.execute_reply.started": "2021-12-05T09:38:59.89519Z"
    },
    "papermill": {
     "duration": 0.106037,
     "end_time": "2021-12-05T10:27:29.757723",
     "exception": false,
     "start_time": "2021-12-05T10:27:29.651686",
     "status": "completed"
    },
    "tags": []
   },
   "outputs": [
    {
     "name": "stdout",
     "output_type": "stream",
     "text": [
      "Actor Name: Lee Min-Ho\n",
      "With Cosine Similarity\n",
      "1 Kim Tae-hee 0.9984\n",
      "2 Shin Min-a 0.998\n",
      "3 Lee Joon-Gi 0.9979\n",
      "\n",
      "With K-Nearest Neighbors\n",
      "1 Lee Joon-Gi 0.6342\n",
      "2 Go Ara 0.8191\n",
      "3 Yoon Jung Shin 0.8658\n",
      "\n",
      "\n",
      "Actor Name: Suzy\n",
      "With Cosine Similarity\n",
      "1 Seong-rok Sin 0.994\n",
      "2 Jun Ji-hyun 0.9872\n",
      "3 Park Shin-Hye 0.985\n",
      "\n",
      "With K-Nearest Neighbors\n",
      "1 Seong-rok Sin 0.9039\n",
      "2 Kang-woo Kim 1.1988\n",
      "3 Sung-Jae Lee 1.2625\n",
      "\n",
      "\n"
     ]
    }
   ],
   "source": [
    "K = 3 #define how many actors are closest to\n",
    "for selectActor in ['Lee Min-Ho', 'Suzy']:\n",
    "\n",
    "    print(\"Actor Name:\", selectActor)\n",
    "    print(\"With Cosine Similarity\")\n",
    "\n",
    "    ## Cosine Similarity\n",
    "    # Get row number of selected Actor\n",
    "    row_actor = actorFeatures.index.get_loc(actorFeatures.loc[actorFeatures['actor_name'].str.contains(selectActor)].index[0])\n",
    "    # Get K closest actorFeatures (returned row numbers)\n",
    "    row_cands = list(reversed(np.argsort(sim[row_actor])[-K-1:-1]))\n",
    "    # Show K closest actorFeatures\n",
    "    for i in range(K):\n",
    "        print(i+1, actorFeatures.iloc[row_cands[i], 0], np.round(sim[row_actor][row_cands[i]],4))\n",
    "\n",
    "    ## K Nearest Neighbors\n",
    "    print(\"\")\n",
    "    id_ = actorFeatures.loc[actorFeatures['actor_name'].str.contains(selectActor)].index[0]\n",
    "    print(\"With K-Nearest Neighbors\")\n",
    "\n",
    "    actor_vec = actorFeatures.loc[actorFeatures.index == id_, cols_all].values.reshape(1, -1) #Get the actor vector\n",
    "    recs = actorFeatures.drop(actorFeatures[actorFeatures.index == id_].index, axis = 0)[cols_all] #Get the rest vectors\n",
    "\n",
    "    # Define model, using K with Euclidean distance\n",
    "    knn = NearestNeighbors(n_neighbors=K, p=2)\n",
    "    knn.fit(recs)\n",
    "\n",
    "    # Return closest actorFeatures\n",
    "    idxs = knn.kneighbors(actor_vec, return_distance=True)\n",
    "    for i in range(K):\n",
    "        print(i+1, actorFeatures.iloc[idxs[1][0][i]]['actor_name'], np.round(idxs[0][0][i],4))\n",
    "    print(\"\\n\")"
   ]
  }
 ],
 "metadata": {
  "kernelspec": {
   "display_name": "Python 3",
   "language": "python",
   "name": "python3"
  },
  "language_info": {
   "codemirror_mode": {
    "name": "ipython",
    "version": 3
   },
   "file_extension": ".py",
   "mimetype": "text/x-python",
   "name": "python",
   "nbconvert_exporter": "python",
   "pygments_lexer": "ipython3",
   "version": "3.7.10"
  },
  "papermill": {
   "default_parameters": {},
   "duration": 44.323005,
   "end_time": "2021-12-05T10:27:30.495270",
   "environment_variables": {},
   "exception": null,
   "input_path": "__notebook__.ipynb",
   "output_path": "__notebook__.ipynb",
   "parameters": {},
   "start_time": "2021-12-05T10:26:46.172265",
   "version": "2.3.3"
  }
 },
 "nbformat": 4,
 "nbformat_minor": 5
}
